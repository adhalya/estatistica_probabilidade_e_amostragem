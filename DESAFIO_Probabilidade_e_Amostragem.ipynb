{
  "nbformat": 4,
  "nbformat_minor": 0,
  "metadata": {
    "colab": {
      "provenance": [],
      "collapsed_sections": [
        "C8CT5gJoPJoN",
        "1Dz4kwk01vKY",
        "oG-tdJiN10XF"
      ],
      "authorship_tag": "ABX9TyPh1EyP/vZal7uwBoFaknvQ",
      "include_colab_link": true
    },
    "kernelspec": {
      "name": "python3",
      "display_name": "Python 3"
    },
    "language_info": {
      "name": "python"
    }
  },
  "cells": [
    {
      "cell_type": "markdown",
      "metadata": {
        "id": "view-in-github",
        "colab_type": "text"
      },
      "source": [
        "<a href=\"https://colab.research.google.com/github/adhalya/estatistica_probabilidade_e_amostragem/blob/main/DESAFIO_Probabilidade_e_Amostragem.ipynb\" target=\"_parent\"><img src=\"https://colab.research.google.com/assets/colab-badge.svg\" alt=\"Open In Colab\"/></a>"
      ]
    },
    {
      "cell_type": "markdown",
      "source": [
        "##### Entendendo o Data Set"
      ],
      "metadata": {
        "id": "C8CT5gJoPJoN"
      }
    },
    {
      "cell_type": "code",
      "execution_count": 2,
      "metadata": {
        "id": "ou9dm3B_x2qF"
      },
      "outputs": [],
      "source": [
        "import pandas as pd\n",
        "import numpy as np\n",
        "\n",
        "import matplotlib.pyplot as plt\n",
        "import seaborn as sns\n",
        "\n",
        "from scipy.stats import norm\n",
        "from scipy.stats import binom\n"
      ]
    },
    {
      "cell_type": "code",
      "source": [
        "df = pd.read_csv(\"https://raw.githubusercontent.com/adhalya/estatistica_probabilidade_e_amostragem/main/populacao_brasileira.csv\")\n",
        "df.head()"
      ],
      "metadata": {
        "colab": {
          "base_uri": "https://localhost:8080/",
          "height": 206
        },
        "id": "IIxpEj93ypzP",
        "outputId": "e5b4ce18-b9ec-4857-9ad7-daec40079aa1"
      },
      "execution_count": 3,
      "outputs": [
        {
          "output_type": "execute_result",
          "data": {
            "text/plain": [
              "   Unnamed: 0 estado  idade escolaridade nível de proficiência em inglês  \\\n",
              "0           0     MA     56  Fundamental                   Intermediário   \n",
              "1           1     BA     46     Superior                          Básico   \n",
              "2           2     AM     32  Fundamental                   Intermediário   \n",
              "3           3     CE     60     Superior                          Básico   \n",
              "4           4     SE     25  Fundamental                        Avançado   \n",
              "\n",
              "     renda sexo  \n",
              "0  4006.29    F  \n",
              "1  2423.11    M  \n",
              "2  3835.69    M  \n",
              "3  1870.29    M  \n",
              "4  3529.80    M  "
            ],
            "text/html": [
              "\n",
              "  <div id=\"df-09108435-76d2-460c-a8d8-fabcc28ee9da\" class=\"colab-df-container\">\n",
              "    <div>\n",
              "<style scoped>\n",
              "    .dataframe tbody tr th:only-of-type {\n",
              "        vertical-align: middle;\n",
              "    }\n",
              "\n",
              "    .dataframe tbody tr th {\n",
              "        vertical-align: top;\n",
              "    }\n",
              "\n",
              "    .dataframe thead th {\n",
              "        text-align: right;\n",
              "    }\n",
              "</style>\n",
              "<table border=\"1\" class=\"dataframe\">\n",
              "  <thead>\n",
              "    <tr style=\"text-align: right;\">\n",
              "      <th></th>\n",
              "      <th>Unnamed: 0</th>\n",
              "      <th>estado</th>\n",
              "      <th>idade</th>\n",
              "      <th>escolaridade</th>\n",
              "      <th>nível de proficiência em inglês</th>\n",
              "      <th>renda</th>\n",
              "      <th>sexo</th>\n",
              "    </tr>\n",
              "  </thead>\n",
              "  <tbody>\n",
              "    <tr>\n",
              "      <th>0</th>\n",
              "      <td>0</td>\n",
              "      <td>MA</td>\n",
              "      <td>56</td>\n",
              "      <td>Fundamental</td>\n",
              "      <td>Intermediário</td>\n",
              "      <td>4006.29</td>\n",
              "      <td>F</td>\n",
              "    </tr>\n",
              "    <tr>\n",
              "      <th>1</th>\n",
              "      <td>1</td>\n",
              "      <td>BA</td>\n",
              "      <td>46</td>\n",
              "      <td>Superior</td>\n",
              "      <td>Básico</td>\n",
              "      <td>2423.11</td>\n",
              "      <td>M</td>\n",
              "    </tr>\n",
              "    <tr>\n",
              "      <th>2</th>\n",
              "      <td>2</td>\n",
              "      <td>AM</td>\n",
              "      <td>32</td>\n",
              "      <td>Fundamental</td>\n",
              "      <td>Intermediário</td>\n",
              "      <td>3835.69</td>\n",
              "      <td>M</td>\n",
              "    </tr>\n",
              "    <tr>\n",
              "      <th>3</th>\n",
              "      <td>3</td>\n",
              "      <td>CE</td>\n",
              "      <td>60</td>\n",
              "      <td>Superior</td>\n",
              "      <td>Básico</td>\n",
              "      <td>1870.29</td>\n",
              "      <td>M</td>\n",
              "    </tr>\n",
              "    <tr>\n",
              "      <th>4</th>\n",
              "      <td>4</td>\n",
              "      <td>SE</td>\n",
              "      <td>25</td>\n",
              "      <td>Fundamental</td>\n",
              "      <td>Avançado</td>\n",
              "      <td>3529.80</td>\n",
              "      <td>M</td>\n",
              "    </tr>\n",
              "  </tbody>\n",
              "</table>\n",
              "</div>\n",
              "    <div class=\"colab-df-buttons\">\n",
              "\n",
              "  <div class=\"colab-df-container\">\n",
              "    <button class=\"colab-df-convert\" onclick=\"convertToInteractive('df-09108435-76d2-460c-a8d8-fabcc28ee9da')\"\n",
              "            title=\"Convert this dataframe to an interactive table.\"\n",
              "            style=\"display:none;\">\n",
              "\n",
              "  <svg xmlns=\"http://www.w3.org/2000/svg\" height=\"24px\" viewBox=\"0 -960 960 960\">\n",
              "    <path d=\"M120-120v-720h720v720H120Zm60-500h600v-160H180v160Zm220 220h160v-160H400v160Zm0 220h160v-160H400v160ZM180-400h160v-160H180v160Zm440 0h160v-160H620v160ZM180-180h160v-160H180v160Zm440 0h160v-160H620v160Z\"/>\n",
              "  </svg>\n",
              "    </button>\n",
              "\n",
              "  <style>\n",
              "    .colab-df-container {\n",
              "      display:flex;\n",
              "      gap: 12px;\n",
              "    }\n",
              "\n",
              "    .colab-df-convert {\n",
              "      background-color: #E8F0FE;\n",
              "      border: none;\n",
              "      border-radius: 50%;\n",
              "      cursor: pointer;\n",
              "      display: none;\n",
              "      fill: #1967D2;\n",
              "      height: 32px;\n",
              "      padding: 0 0 0 0;\n",
              "      width: 32px;\n",
              "    }\n",
              "\n",
              "    .colab-df-convert:hover {\n",
              "      background-color: #E2EBFA;\n",
              "      box-shadow: 0px 1px 2px rgba(60, 64, 67, 0.3), 0px 1px 3px 1px rgba(60, 64, 67, 0.15);\n",
              "      fill: #174EA6;\n",
              "    }\n",
              "\n",
              "    .colab-df-buttons div {\n",
              "      margin-bottom: 4px;\n",
              "    }\n",
              "\n",
              "    [theme=dark] .colab-df-convert {\n",
              "      background-color: #3B4455;\n",
              "      fill: #D2E3FC;\n",
              "    }\n",
              "\n",
              "    [theme=dark] .colab-df-convert:hover {\n",
              "      background-color: #434B5C;\n",
              "      box-shadow: 0px 1px 3px 1px rgba(0, 0, 0, 0.15);\n",
              "      filter: drop-shadow(0px 1px 2px rgba(0, 0, 0, 0.3));\n",
              "      fill: #FFFFFF;\n",
              "    }\n",
              "  </style>\n",
              "\n",
              "    <script>\n",
              "      const buttonEl =\n",
              "        document.querySelector('#df-09108435-76d2-460c-a8d8-fabcc28ee9da button.colab-df-convert');\n",
              "      buttonEl.style.display =\n",
              "        google.colab.kernel.accessAllowed ? 'block' : 'none';\n",
              "\n",
              "      async function convertToInteractive(key) {\n",
              "        const element = document.querySelector('#df-09108435-76d2-460c-a8d8-fabcc28ee9da');\n",
              "        const dataTable =\n",
              "          await google.colab.kernel.invokeFunction('convertToInteractive',\n",
              "                                                    [key], {});\n",
              "        if (!dataTable) return;\n",
              "\n",
              "        const docLinkHtml = 'Like what you see? Visit the ' +\n",
              "          '<a target=\"_blank\" href=https://colab.research.google.com/notebooks/data_table.ipynb>data table notebook</a>'\n",
              "          + ' to learn more about interactive tables.';\n",
              "        element.innerHTML = '';\n",
              "        dataTable['output_type'] = 'display_data';\n",
              "        await google.colab.output.renderOutput(dataTable, element);\n",
              "        const docLink = document.createElement('div');\n",
              "        docLink.innerHTML = docLinkHtml;\n",
              "        element.appendChild(docLink);\n",
              "      }\n",
              "    </script>\n",
              "  </div>\n",
              "\n",
              "\n",
              "<div id=\"df-3b671495-aa45-4ee5-8a16-dab0ce77f7d5\">\n",
              "  <button class=\"colab-df-quickchart\" onclick=\"quickchart('df-3b671495-aa45-4ee5-8a16-dab0ce77f7d5')\"\n",
              "            title=\"Suggest charts\"\n",
              "            style=\"display:none;\">\n",
              "\n",
              "<svg xmlns=\"http://www.w3.org/2000/svg\" height=\"24px\"viewBox=\"0 0 24 24\"\n",
              "     width=\"24px\">\n",
              "    <g>\n",
              "        <path d=\"M19 3H5c-1.1 0-2 .9-2 2v14c0 1.1.9 2 2 2h14c1.1 0 2-.9 2-2V5c0-1.1-.9-2-2-2zM9 17H7v-7h2v7zm4 0h-2V7h2v10zm4 0h-2v-4h2v4z\"/>\n",
              "    </g>\n",
              "</svg>\n",
              "  </button>\n",
              "\n",
              "<style>\n",
              "  .colab-df-quickchart {\n",
              "      --bg-color: #E8F0FE;\n",
              "      --fill-color: #1967D2;\n",
              "      --hover-bg-color: #E2EBFA;\n",
              "      --hover-fill-color: #174EA6;\n",
              "      --disabled-fill-color: #AAA;\n",
              "      --disabled-bg-color: #DDD;\n",
              "  }\n",
              "\n",
              "  [theme=dark] .colab-df-quickchart {\n",
              "      --bg-color: #3B4455;\n",
              "      --fill-color: #D2E3FC;\n",
              "      --hover-bg-color: #434B5C;\n",
              "      --hover-fill-color: #FFFFFF;\n",
              "      --disabled-bg-color: #3B4455;\n",
              "      --disabled-fill-color: #666;\n",
              "  }\n",
              "\n",
              "  .colab-df-quickchart {\n",
              "    background-color: var(--bg-color);\n",
              "    border: none;\n",
              "    border-radius: 50%;\n",
              "    cursor: pointer;\n",
              "    display: none;\n",
              "    fill: var(--fill-color);\n",
              "    height: 32px;\n",
              "    padding: 0;\n",
              "    width: 32px;\n",
              "  }\n",
              "\n",
              "  .colab-df-quickchart:hover {\n",
              "    background-color: var(--hover-bg-color);\n",
              "    box-shadow: 0 1px 2px rgba(60, 64, 67, 0.3), 0 1px 3px 1px rgba(60, 64, 67, 0.15);\n",
              "    fill: var(--button-hover-fill-color);\n",
              "  }\n",
              "\n",
              "  .colab-df-quickchart-complete:disabled,\n",
              "  .colab-df-quickchart-complete:disabled:hover {\n",
              "    background-color: var(--disabled-bg-color);\n",
              "    fill: var(--disabled-fill-color);\n",
              "    box-shadow: none;\n",
              "  }\n",
              "\n",
              "  .colab-df-spinner {\n",
              "    border: 2px solid var(--fill-color);\n",
              "    border-color: transparent;\n",
              "    border-bottom-color: var(--fill-color);\n",
              "    animation:\n",
              "      spin 1s steps(1) infinite;\n",
              "  }\n",
              "\n",
              "  @keyframes spin {\n",
              "    0% {\n",
              "      border-color: transparent;\n",
              "      border-bottom-color: var(--fill-color);\n",
              "      border-left-color: var(--fill-color);\n",
              "    }\n",
              "    20% {\n",
              "      border-color: transparent;\n",
              "      border-left-color: var(--fill-color);\n",
              "      border-top-color: var(--fill-color);\n",
              "    }\n",
              "    30% {\n",
              "      border-color: transparent;\n",
              "      border-left-color: var(--fill-color);\n",
              "      border-top-color: var(--fill-color);\n",
              "      border-right-color: var(--fill-color);\n",
              "    }\n",
              "    40% {\n",
              "      border-color: transparent;\n",
              "      border-right-color: var(--fill-color);\n",
              "      border-top-color: var(--fill-color);\n",
              "    }\n",
              "    60% {\n",
              "      border-color: transparent;\n",
              "      border-right-color: var(--fill-color);\n",
              "    }\n",
              "    80% {\n",
              "      border-color: transparent;\n",
              "      border-right-color: var(--fill-color);\n",
              "      border-bottom-color: var(--fill-color);\n",
              "    }\n",
              "    90% {\n",
              "      border-color: transparent;\n",
              "      border-bottom-color: var(--fill-color);\n",
              "    }\n",
              "  }\n",
              "</style>\n",
              "\n",
              "  <script>\n",
              "    async function quickchart(key) {\n",
              "      const quickchartButtonEl =\n",
              "        document.querySelector('#' + key + ' button');\n",
              "      quickchartButtonEl.disabled = true;  // To prevent multiple clicks.\n",
              "      quickchartButtonEl.classList.add('colab-df-spinner');\n",
              "      try {\n",
              "        const charts = await google.colab.kernel.invokeFunction(\n",
              "            'suggestCharts', [key], {});\n",
              "      } catch (error) {\n",
              "        console.error('Error during call to suggestCharts:', error);\n",
              "      }\n",
              "      quickchartButtonEl.classList.remove('colab-df-spinner');\n",
              "      quickchartButtonEl.classList.add('colab-df-quickchart-complete');\n",
              "    }\n",
              "    (() => {\n",
              "      let quickchartButtonEl =\n",
              "        document.querySelector('#df-3b671495-aa45-4ee5-8a16-dab0ce77f7d5 button');\n",
              "      quickchartButtonEl.style.display =\n",
              "        google.colab.kernel.accessAllowed ? 'block' : 'none';\n",
              "    })();\n",
              "  </script>\n",
              "</div>\n",
              "\n",
              "    </div>\n",
              "  </div>\n"
            ],
            "application/vnd.google.colaboratory.intrinsic+json": {
              "type": "dataframe",
              "variable_name": "df",
              "summary": "{\n  \"name\": \"df\",\n  \"rows\": 1000,\n  \"fields\": [\n    {\n      \"column\": \"Unnamed: 0\",\n      \"properties\": {\n        \"dtype\": \"number\",\n        \"std\": 288,\n        \"min\": 0,\n        \"max\": 999,\n        \"num_unique_values\": 1000,\n        \"samples\": [\n          521,\n          737,\n          740\n        ],\n        \"semantic_type\": \"\",\n        \"description\": \"\"\n      }\n    },\n    {\n      \"column\": \"estado\",\n      \"properties\": {\n        \"dtype\": \"category\",\n        \"num_unique_values\": 27,\n        \"samples\": [\n          \"AC\",\n          \"PA\",\n          \"SC\"\n        ],\n        \"semantic_type\": \"\",\n        \"description\": \"\"\n      }\n    },\n    {\n      \"column\": \"idade\",\n      \"properties\": {\n        \"dtype\": \"number\",\n        \"std\": 13,\n        \"min\": 18,\n        \"max\": 64,\n        \"num_unique_values\": 47,\n        \"samples\": [\n          24,\n          48,\n          54\n        ],\n        \"semantic_type\": \"\",\n        \"description\": \"\"\n      }\n    },\n    {\n      \"column\": \"escolaridade\",\n      \"properties\": {\n        \"dtype\": \"category\",\n        \"num_unique_values\": 4,\n        \"samples\": [\n          \"Superior\",\n          \"P\\u00f3s-gradua\\u00e7\\u00e3o\",\n          \"Fundamental\"\n        ],\n        \"semantic_type\": \"\",\n        \"description\": \"\"\n      }\n    },\n    {\n      \"column\": \"n\\u00edvel de profici\\u00eancia em ingl\\u00eas\",\n      \"properties\": {\n        \"dtype\": \"category\",\n        \"num_unique_values\": 3,\n        \"samples\": [\n          \"Intermedi\\u00e1rio\",\n          \"B\\u00e1sico\",\n          \"Avan\\u00e7ado\"\n        ],\n        \"semantic_type\": \"\",\n        \"description\": \"\"\n      }\n    },\n    {\n      \"column\": \"renda\",\n      \"properties\": {\n        \"dtype\": \"number\",\n        \"std\": 996.572239312141,\n        \"min\": 103.74,\n        \"max\": 5632.38,\n        \"num_unique_values\": 998,\n        \"samples\": [\n          2752.82,\n          4218.76,\n          2244.62\n        ],\n        \"semantic_type\": \"\",\n        \"description\": \"\"\n      }\n    },\n    {\n      \"column\": \"sexo\",\n      \"properties\": {\n        \"dtype\": \"category\",\n        \"num_unique_values\": 2,\n        \"samples\": [\n          \"M\",\n          \"F\"\n        ],\n        \"semantic_type\": \"\",\n        \"description\": \"\"\n      }\n    }\n  ]\n}"
            }
          },
          "metadata": {},
          "execution_count": 3
        }
      ]
    },
    {
      "cell_type": "code",
      "source": [
        "df.shape"
      ],
      "metadata": {
        "colab": {
          "base_uri": "https://localhost:8080/"
        },
        "id": "pwGEVFgA2gUV",
        "outputId": "197a3761-718c-40f7-994c-2f49d4ab1fa3"
      },
      "execution_count": 4,
      "outputs": [
        {
          "output_type": "execute_result",
          "data": {
            "text/plain": [
              "(1000, 7)"
            ]
          },
          "metadata": {},
          "execution_count": 4
        }
      ]
    },
    {
      "cell_type": "code",
      "source": [
        "df.info()"
      ],
      "metadata": {
        "colab": {
          "base_uri": "https://localhost:8080/"
        },
        "id": "5uKzHLegzGkr",
        "outputId": "8fabcd65-564d-4fa3-ef86-1e0d9c7bbf47"
      },
      "execution_count": 5,
      "outputs": [
        {
          "output_type": "stream",
          "name": "stdout",
          "text": [
            "<class 'pandas.core.frame.DataFrame'>\n",
            "RangeIndex: 1000 entries, 0 to 999\n",
            "Data columns (total 7 columns):\n",
            " #   Column                           Non-Null Count  Dtype  \n",
            "---  ------                           --------------  -----  \n",
            " 0   Unnamed: 0                       1000 non-null   int64  \n",
            " 1   estado                           1000 non-null   object \n",
            " 2   idade                            1000 non-null   int64  \n",
            " 3   escolaridade                     1000 non-null   object \n",
            " 4   nível de proficiência em inglês  1000 non-null   object \n",
            " 5   renda                            1000 non-null   float64\n",
            " 6   sexo                             1000 non-null   object \n",
            "dtypes: float64(1), int64(2), object(4)\n",
            "memory usage: 54.8+ KB\n"
          ]
        }
      ]
    },
    {
      "cell_type": "code",
      "source": [
        "df.describe()"
      ],
      "metadata": {
        "colab": {
          "base_uri": "https://localhost:8080/",
          "height": 300
        },
        "id": "5Arm1zaYzBMk",
        "outputId": "45fa27a6-9b33-4b88-8e90-eb4a4853b6a1"
      },
      "execution_count": 6,
      "outputs": [
        {
          "output_type": "execute_result",
          "data": {
            "text/plain": [
              "        Unnamed: 0        idade        renda\n",
              "count  1000.000000  1000.000000  1000.000000\n",
              "mean    499.500000    40.986000  3082.537180\n",
              "std     288.819436    13.497852   996.572239\n",
              "min       0.000000    18.000000   103.740000\n",
              "25%     249.750000    29.000000  2425.815000\n",
              "50%     499.500000    42.000000  3076.415000\n",
              "75%     749.250000    52.000000  3714.487500\n",
              "max     999.000000    64.000000  5632.380000"
            ],
            "text/html": [
              "\n",
              "  <div id=\"df-f93d2edb-c4b3-4495-bd78-a122fa8153fc\" class=\"colab-df-container\">\n",
              "    <div>\n",
              "<style scoped>\n",
              "    .dataframe tbody tr th:only-of-type {\n",
              "        vertical-align: middle;\n",
              "    }\n",
              "\n",
              "    .dataframe tbody tr th {\n",
              "        vertical-align: top;\n",
              "    }\n",
              "\n",
              "    .dataframe thead th {\n",
              "        text-align: right;\n",
              "    }\n",
              "</style>\n",
              "<table border=\"1\" class=\"dataframe\">\n",
              "  <thead>\n",
              "    <tr style=\"text-align: right;\">\n",
              "      <th></th>\n",
              "      <th>Unnamed: 0</th>\n",
              "      <th>idade</th>\n",
              "      <th>renda</th>\n",
              "    </tr>\n",
              "  </thead>\n",
              "  <tbody>\n",
              "    <tr>\n",
              "      <th>count</th>\n",
              "      <td>1000.000000</td>\n",
              "      <td>1000.000000</td>\n",
              "      <td>1000.000000</td>\n",
              "    </tr>\n",
              "    <tr>\n",
              "      <th>mean</th>\n",
              "      <td>499.500000</td>\n",
              "      <td>40.986000</td>\n",
              "      <td>3082.537180</td>\n",
              "    </tr>\n",
              "    <tr>\n",
              "      <th>std</th>\n",
              "      <td>288.819436</td>\n",
              "      <td>13.497852</td>\n",
              "      <td>996.572239</td>\n",
              "    </tr>\n",
              "    <tr>\n",
              "      <th>min</th>\n",
              "      <td>0.000000</td>\n",
              "      <td>18.000000</td>\n",
              "      <td>103.740000</td>\n",
              "    </tr>\n",
              "    <tr>\n",
              "      <th>25%</th>\n",
              "      <td>249.750000</td>\n",
              "      <td>29.000000</td>\n",
              "      <td>2425.815000</td>\n",
              "    </tr>\n",
              "    <tr>\n",
              "      <th>50%</th>\n",
              "      <td>499.500000</td>\n",
              "      <td>42.000000</td>\n",
              "      <td>3076.415000</td>\n",
              "    </tr>\n",
              "    <tr>\n",
              "      <th>75%</th>\n",
              "      <td>749.250000</td>\n",
              "      <td>52.000000</td>\n",
              "      <td>3714.487500</td>\n",
              "    </tr>\n",
              "    <tr>\n",
              "      <th>max</th>\n",
              "      <td>999.000000</td>\n",
              "      <td>64.000000</td>\n",
              "      <td>5632.380000</td>\n",
              "    </tr>\n",
              "  </tbody>\n",
              "</table>\n",
              "</div>\n",
              "    <div class=\"colab-df-buttons\">\n",
              "\n",
              "  <div class=\"colab-df-container\">\n",
              "    <button class=\"colab-df-convert\" onclick=\"convertToInteractive('df-f93d2edb-c4b3-4495-bd78-a122fa8153fc')\"\n",
              "            title=\"Convert this dataframe to an interactive table.\"\n",
              "            style=\"display:none;\">\n",
              "\n",
              "  <svg xmlns=\"http://www.w3.org/2000/svg\" height=\"24px\" viewBox=\"0 -960 960 960\">\n",
              "    <path d=\"M120-120v-720h720v720H120Zm60-500h600v-160H180v160Zm220 220h160v-160H400v160Zm0 220h160v-160H400v160ZM180-400h160v-160H180v160Zm440 0h160v-160H620v160ZM180-180h160v-160H180v160Zm440 0h160v-160H620v160Z\"/>\n",
              "  </svg>\n",
              "    </button>\n",
              "\n",
              "  <style>\n",
              "    .colab-df-container {\n",
              "      display:flex;\n",
              "      gap: 12px;\n",
              "    }\n",
              "\n",
              "    .colab-df-convert {\n",
              "      background-color: #E8F0FE;\n",
              "      border: none;\n",
              "      border-radius: 50%;\n",
              "      cursor: pointer;\n",
              "      display: none;\n",
              "      fill: #1967D2;\n",
              "      height: 32px;\n",
              "      padding: 0 0 0 0;\n",
              "      width: 32px;\n",
              "    }\n",
              "\n",
              "    .colab-df-convert:hover {\n",
              "      background-color: #E2EBFA;\n",
              "      box-shadow: 0px 1px 2px rgba(60, 64, 67, 0.3), 0px 1px 3px 1px rgba(60, 64, 67, 0.15);\n",
              "      fill: #174EA6;\n",
              "    }\n",
              "\n",
              "    .colab-df-buttons div {\n",
              "      margin-bottom: 4px;\n",
              "    }\n",
              "\n",
              "    [theme=dark] .colab-df-convert {\n",
              "      background-color: #3B4455;\n",
              "      fill: #D2E3FC;\n",
              "    }\n",
              "\n",
              "    [theme=dark] .colab-df-convert:hover {\n",
              "      background-color: #434B5C;\n",
              "      box-shadow: 0px 1px 3px 1px rgba(0, 0, 0, 0.15);\n",
              "      filter: drop-shadow(0px 1px 2px rgba(0, 0, 0, 0.3));\n",
              "      fill: #FFFFFF;\n",
              "    }\n",
              "  </style>\n",
              "\n",
              "    <script>\n",
              "      const buttonEl =\n",
              "        document.querySelector('#df-f93d2edb-c4b3-4495-bd78-a122fa8153fc button.colab-df-convert');\n",
              "      buttonEl.style.display =\n",
              "        google.colab.kernel.accessAllowed ? 'block' : 'none';\n",
              "\n",
              "      async function convertToInteractive(key) {\n",
              "        const element = document.querySelector('#df-f93d2edb-c4b3-4495-bd78-a122fa8153fc');\n",
              "        const dataTable =\n",
              "          await google.colab.kernel.invokeFunction('convertToInteractive',\n",
              "                                                    [key], {});\n",
              "        if (!dataTable) return;\n",
              "\n",
              "        const docLinkHtml = 'Like what you see? Visit the ' +\n",
              "          '<a target=\"_blank\" href=https://colab.research.google.com/notebooks/data_table.ipynb>data table notebook</a>'\n",
              "          + ' to learn more about interactive tables.';\n",
              "        element.innerHTML = '';\n",
              "        dataTable['output_type'] = 'display_data';\n",
              "        await google.colab.output.renderOutput(dataTable, element);\n",
              "        const docLink = document.createElement('div');\n",
              "        docLink.innerHTML = docLinkHtml;\n",
              "        element.appendChild(docLink);\n",
              "      }\n",
              "    </script>\n",
              "  </div>\n",
              "\n",
              "\n",
              "<div id=\"df-296d5ddd-bf05-4dba-8eb5-d795b244f903\">\n",
              "  <button class=\"colab-df-quickchart\" onclick=\"quickchart('df-296d5ddd-bf05-4dba-8eb5-d795b244f903')\"\n",
              "            title=\"Suggest charts\"\n",
              "            style=\"display:none;\">\n",
              "\n",
              "<svg xmlns=\"http://www.w3.org/2000/svg\" height=\"24px\"viewBox=\"0 0 24 24\"\n",
              "     width=\"24px\">\n",
              "    <g>\n",
              "        <path d=\"M19 3H5c-1.1 0-2 .9-2 2v14c0 1.1.9 2 2 2h14c1.1 0 2-.9 2-2V5c0-1.1-.9-2-2-2zM9 17H7v-7h2v7zm4 0h-2V7h2v10zm4 0h-2v-4h2v4z\"/>\n",
              "    </g>\n",
              "</svg>\n",
              "  </button>\n",
              "\n",
              "<style>\n",
              "  .colab-df-quickchart {\n",
              "      --bg-color: #E8F0FE;\n",
              "      --fill-color: #1967D2;\n",
              "      --hover-bg-color: #E2EBFA;\n",
              "      --hover-fill-color: #174EA6;\n",
              "      --disabled-fill-color: #AAA;\n",
              "      --disabled-bg-color: #DDD;\n",
              "  }\n",
              "\n",
              "  [theme=dark] .colab-df-quickchart {\n",
              "      --bg-color: #3B4455;\n",
              "      --fill-color: #D2E3FC;\n",
              "      --hover-bg-color: #434B5C;\n",
              "      --hover-fill-color: #FFFFFF;\n",
              "      --disabled-bg-color: #3B4455;\n",
              "      --disabled-fill-color: #666;\n",
              "  }\n",
              "\n",
              "  .colab-df-quickchart {\n",
              "    background-color: var(--bg-color);\n",
              "    border: none;\n",
              "    border-radius: 50%;\n",
              "    cursor: pointer;\n",
              "    display: none;\n",
              "    fill: var(--fill-color);\n",
              "    height: 32px;\n",
              "    padding: 0;\n",
              "    width: 32px;\n",
              "  }\n",
              "\n",
              "  .colab-df-quickchart:hover {\n",
              "    background-color: var(--hover-bg-color);\n",
              "    box-shadow: 0 1px 2px rgba(60, 64, 67, 0.3), 0 1px 3px 1px rgba(60, 64, 67, 0.15);\n",
              "    fill: var(--button-hover-fill-color);\n",
              "  }\n",
              "\n",
              "  .colab-df-quickchart-complete:disabled,\n",
              "  .colab-df-quickchart-complete:disabled:hover {\n",
              "    background-color: var(--disabled-bg-color);\n",
              "    fill: var(--disabled-fill-color);\n",
              "    box-shadow: none;\n",
              "  }\n",
              "\n",
              "  .colab-df-spinner {\n",
              "    border: 2px solid var(--fill-color);\n",
              "    border-color: transparent;\n",
              "    border-bottom-color: var(--fill-color);\n",
              "    animation:\n",
              "      spin 1s steps(1) infinite;\n",
              "  }\n",
              "\n",
              "  @keyframes spin {\n",
              "    0% {\n",
              "      border-color: transparent;\n",
              "      border-bottom-color: var(--fill-color);\n",
              "      border-left-color: var(--fill-color);\n",
              "    }\n",
              "    20% {\n",
              "      border-color: transparent;\n",
              "      border-left-color: var(--fill-color);\n",
              "      border-top-color: var(--fill-color);\n",
              "    }\n",
              "    30% {\n",
              "      border-color: transparent;\n",
              "      border-left-color: var(--fill-color);\n",
              "      border-top-color: var(--fill-color);\n",
              "      border-right-color: var(--fill-color);\n",
              "    }\n",
              "    40% {\n",
              "      border-color: transparent;\n",
              "      border-right-color: var(--fill-color);\n",
              "      border-top-color: var(--fill-color);\n",
              "    }\n",
              "    60% {\n",
              "      border-color: transparent;\n",
              "      border-right-color: var(--fill-color);\n",
              "    }\n",
              "    80% {\n",
              "      border-color: transparent;\n",
              "      border-right-color: var(--fill-color);\n",
              "      border-bottom-color: var(--fill-color);\n",
              "    }\n",
              "    90% {\n",
              "      border-color: transparent;\n",
              "      border-bottom-color: var(--fill-color);\n",
              "    }\n",
              "  }\n",
              "</style>\n",
              "\n",
              "  <script>\n",
              "    async function quickchart(key) {\n",
              "      const quickchartButtonEl =\n",
              "        document.querySelector('#' + key + ' button');\n",
              "      quickchartButtonEl.disabled = true;  // To prevent multiple clicks.\n",
              "      quickchartButtonEl.classList.add('colab-df-spinner');\n",
              "      try {\n",
              "        const charts = await google.colab.kernel.invokeFunction(\n",
              "            'suggestCharts', [key], {});\n",
              "      } catch (error) {\n",
              "        console.error('Error during call to suggestCharts:', error);\n",
              "      }\n",
              "      quickchartButtonEl.classList.remove('colab-df-spinner');\n",
              "      quickchartButtonEl.classList.add('colab-df-quickchart-complete');\n",
              "    }\n",
              "    (() => {\n",
              "      let quickchartButtonEl =\n",
              "        document.querySelector('#df-296d5ddd-bf05-4dba-8eb5-d795b244f903 button');\n",
              "      quickchartButtonEl.style.display =\n",
              "        google.colab.kernel.accessAllowed ? 'block' : 'none';\n",
              "    })();\n",
              "  </script>\n",
              "</div>\n",
              "\n",
              "    </div>\n",
              "  </div>\n"
            ],
            "application/vnd.google.colaboratory.intrinsic+json": {
              "type": "dataframe",
              "summary": "{\n  \"name\": \"df\",\n  \"rows\": 8,\n  \"fields\": [\n    {\n      \"column\": \"Unnamed: 0\",\n      \"properties\": {\n        \"dtype\": \"number\",\n        \"std\": 360.1860157939537,\n        \"min\": 0.0,\n        \"max\": 1000.0,\n        \"num_unique_values\": 7,\n        \"samples\": [\n          1000.0,\n          499.5,\n          749.25\n        ],\n        \"semantic_type\": \"\",\n        \"description\": \"\"\n      }\n    },\n    {\n      \"column\": \"idade\",\n      \"properties\": {\n        \"dtype\": \"number\",\n        \"std\": 340.86101014470347,\n        \"min\": 13.497851532595696,\n        \"max\": 1000.0,\n        \"num_unique_values\": 8,\n        \"samples\": [\n          40.986,\n          42.0,\n          1000.0\n        ],\n        \"semantic_type\": \"\",\n        \"description\": \"\"\n      }\n    },\n    {\n      \"column\": \"renda\",\n      \"properties\": {\n        \"dtype\": \"number\",\n        \"std\": 1781.4970040505991,\n        \"min\": 103.74,\n        \"max\": 5632.38,\n        \"num_unique_values\": 8,\n        \"samples\": [\n          3082.5371800000003,\n          3076.415,\n          1000.0\n        ],\n        \"semantic_type\": \"\",\n        \"description\": \"\"\n      }\n    }\n  ]\n}"
            }
          },
          "metadata": {},
          "execution_count": 6
        }
      ]
    },
    {
      "cell_type": "markdown",
      "source": [
        "Você é uma pesquisadora desenvolvendo uma análise sobre as\n",
        "características da força de trabalho nos estados brasileiros. Responda as\n",
        "perguntas abaixo:\n"
      ],
      "metadata": {
        "id": "Im7eN3-Jzmmf"
      }
    },
    {
      "cell_type": "markdown",
      "source": [
        "##### 1. Considere pessoas fluentes em inglês, qual a probabilidade complementar? Ou seja, qual a probabilidade de escolhermos uma pessoa aleatória e ela não ser fluente em inglês. Considere fluente quem tem o nível avançado.\n"
      ],
      "metadata": {
        "id": "YRJtwJqjzqBH"
      }
    },
    {
      "cell_type": "code",
      "source": [
        "# Contando o número total de pessoas\n",
        "total_pessoas = len(df)\n",
        "# Contando quantas pessoas possuem nível avançado em inglês\n",
        "pessoas_fluentes_ingles = len(df.loc[df[\"nível de proficiência em inglês\"] == \"Avançado\"])\n",
        "\n",
        "probabilidade_fluencia_ingles = pessoas_fluentes_ingles / total_pessoas\n",
        "\n",
        "probabilidade_complementar = (1 - probabilidade_fluencia_ingles) * 100\n",
        "\n",
        "print(f\"A probabilidade de uma pessoa aleatória não ser fluente na língua inglesa é de {probabilidade_complementar:.1f}%\")\n",
        "\n"
      ],
      "metadata": {
        "colab": {
          "base_uri": "https://localhost:8080/"
        },
        "id": "sQL5I95O1Xq8",
        "outputId": "90a05b1b-da8f-4a6b-a5ee-161e6c0cac96"
      },
      "execution_count": 7,
      "outputs": [
        {
          "output_type": "stream",
          "name": "stdout",
          "text": [
            "A probabilidade de uma pessoa aleatória não ser fluente na língua inglesa é de 65.6%\n"
          ]
        }
      ]
    },
    {
      "cell_type": "markdown",
      "source": [
        "##### 2. Se uma pessoa escolhida aleatoriamente for de Alagoas ou do Pará, qual é a probabilidade de ela ter uma renda superior a 5 mil reais?"
      ],
      "metadata": {
        "id": "apk9G_z8zzgc"
      }
    },
    {
      "cell_type": "code",
      "source": [
        "# Filtrando a quantidade de pessoas que moram no estado do Pará e Alagoas\n",
        "pessoas_para_alagoas = len(df.loc[(df[\"estado\"] == \"PA\") | (df[\"estado\"] == \"AL\")])\n",
        "\n",
        "# Filtrando pessoas com renda maior que 5 mil reais nos estados Pará e Alagoas\n",
        "pessoas_renda_5mil_para_alagoas = len(df.loc[(df[\"estado\"] == \"PA\") | (df[\"estado\"] == \"AL\") & (df[\"renda\"] > 5000)])\n",
        "\n",
        "probabilidade_pa_al_5mil = (pessoas_renda_5mil_para_alagoas / pessoas_para_alagoas) * 100\n",
        "\n",
        "print(f\"A probabilidade de ser escolhida aleatoriamente uma pessoa que reside no Pará ou Alagoas com renda superior a 5000 reais é de {probabilidade_pa_al_5mil:.2f}%\")\n"
      ],
      "metadata": {
        "id": "hwdUWLMP1Wyc",
        "colab": {
          "base_uri": "https://localhost:8080/"
        },
        "outputId": "22a42421-5ee1-4ba0-9cf8-c38b51d34d18"
      },
      "execution_count": 35,
      "outputs": [
        {
          "output_type": "stream",
          "name": "stdout",
          "text": [
            "A probabilidade de ser escolhida aleatoriamente uma pessoa que reside no Pará ou Alagoas com renda superior a 5000 reais é de 50.63%\n"
          ]
        }
      ]
    },
    {
      "cell_type": "markdown",
      "source": [
        "##### 3. Descubra a probabilidade de uma pessoa ter ensino superior completo no estado do Amazonas. Qual a probabilidade da quinta pessoa que você conversar, que é amazonense, ter ensino superior completo?\n"
      ],
      "metadata": {
        "id": "XaQ9acYH1YG9"
      }
    },
    {
      "cell_type": "code",
      "source": [
        "# Filtrando pessoas residentes no Estado do Amazonas\n",
        "pessoas_amazonas = len(df.loc[df[\"estado\"] == \"AM\"])\n",
        "\n",
        "# Filtrando pessoas residentes no Estado do Amazonas com ensino superior completo\n",
        "pessoas_amazonas_superior_completo = len(df.loc[(df[\"estado\"] == \"AM\") & (df[\"escolaridade\"].isin([\"Superior\", \"Pós-graduação\"]))])\n",
        "\n",
        "# Probabilidade da pessoa amazonense ter ensino superior completo\n",
        "prob_amazonas_superior_completo = pessoas_amazonas_superior_completo / pessoas_amazonas\n",
        "porc_prob_amazonas_superior_completo = prob_amazonas_superior_completo * 100\n",
        "print(f\"A probabilidade de uma pessoa ter ensino superior completo no estado do Amazonas é de: {porc_prob_amazonas_superior_completo:.2f}%\")\n",
        "\n",
        "# Probabilidade da pessoa amazonense não ter ensino superior completo\n",
        "prob_complementar_am_sup_completo = 1 - prob_amazonas_superior_completo\n",
        "\n",
        "# Probabilidade da quinta pessoa amazonense ter ensino superior completo\n",
        "prob_quinta_pessoa_superior_compl = (prob_complementar_am_sup_completo * prob_complementar_am_sup_completo * prob_complementar_am_sup_completo * prob_complementar_am_sup_completo * prob_amazonas_superior_completo) * 100\n",
        "\n",
        "print(f\"A probabilidade da 5ª pessoa amazonense ter ensino superior completo é de {prob_quinta_pessoa_superior_compl:.2f}%\")"
      ],
      "metadata": {
        "id": "IXA6b2Cw1dTB",
        "colab": {
          "base_uri": "https://localhost:8080/"
        },
        "outputId": "9694705a-24e3-4baf-8bf6-42b8f7eb7bfe"
      },
      "execution_count": 38,
      "outputs": [
        {
          "output_type": "stream",
          "name": "stdout",
          "text": [
            "A probabilidade de uma pessoa ter ensino superior completo no estado do Amazonas é de: 55.26%\n",
            "A probabilidade da 5ª pessoa amazonense ter ensino superior completo é de 2.21%\n"
          ]
        }
      ]
    },
    {
      "cell_type": "markdown",
      "source": [
        "##### 4. Considerando a renda das pessoas do nosso conjunto, podemos dizer que a renda de uma pessoa brasileira está na sua maioria em que faixa (faça faixa de 1.500 reais)? Qual é a sua função densidade de probabilidade?\n"
      ],
      "metadata": {
        "id": "mUka2tKA1dkq"
      }
    },
    {
      "cell_type": "code",
      "source": [
        "# Definindo as faixas salariais\n",
        "faixas_salariais = [0, 1500, 3000, 4500, 6000]\n",
        "\n",
        "# Rotulando as faixas salariais\n",
        "rotulos_faixas = [\"0 - 1500\", \"1500 - 3000\", \"3000 - 4500\", \"4500 - 6000\"]\n",
        "\n",
        "# Destacando pessoas por faixa de renda\n",
        "salario = pd.cut(df[\"renda\"], bins=faixas_salariais, labels=rotulos_faixas, right=False)\n",
        "\n",
        "# Contando o número de pessoas em cada faixa salarial\n",
        "contagem_faixas_salariais = salario.value_counts().sort_index()\n",
        "print(\"Quantidade de pessoas por faixa de renda:\")\n",
        "print(f\"{contagem_faixas_salariais}\")\n",
        "\n",
        "densidade_probabilidade = contagem_faixas_salariais / total_pessoas\n",
        "\n",
        "# Impressão dos dados de densidade\n",
        "print(\"\\nDensidade de probabilidade por faixa de renda:\")\n",
        "for faixa, densidade in zip(rotulos_faixas, densidade_probabilidade):\n",
        "    print(f\"{faixa}: {densidade:.2%}\")\n",
        "\n",
        "# Configurando o estilo do seaborn\n",
        "sns.set_theme()\n",
        "\n",
        "# Plotando o histograma das faixas salariais\n",
        "plt.figure(figsize=(8, 4))\n",
        "sns.histplot(df[\"renda\"], bins=faixas_salariais, kde=False, color=\"#3b655c\")\n",
        "\n",
        "# Definindo os rótulos dos eixos e o título do gráfico\n",
        "plt.xlabel(\"Renda\")\n",
        "plt.ylabel(\"Número de Pessoas\")\n",
        "plt.title(\"Distribuição de Renda das Pessoas\")\n",
        "\n",
        "# Definindo os rótulos do eixo x para as faixas salariais\n",
        "plt.xticks(faixas_salariais)\n",
        "\n",
        "# Exibindo o histograma\n",
        "plt.show()\n",
        "\n"
      ],
      "metadata": {
        "id": "rtpt20QM1kTZ",
        "colab": {
          "base_uri": "https://localhost:8080/",
          "height": 627
        },
        "outputId": "5b524157-dd9d-433e-89e5-70d2f33d2a9c"
      },
      "execution_count": 10,
      "outputs": [
        {
          "output_type": "stream",
          "name": "stdout",
          "text": [
            "Quantidade de pessoas por faixa de renda:\n",
            "0 - 1500        55\n",
            "1500 - 3000    414\n",
            "3000 - 4500    442\n",
            "4500 - 6000     89\n",
            "Name: renda, dtype: int64\n",
            "\n",
            "Densidade de probabilidade por faixa de renda:\n",
            "0 - 1500: 5.50%\n",
            "1500 - 3000: 41.40%\n",
            "3000 - 4500: 44.20%\n",
            "4500 - 6000: 8.90%\n"
          ]
        },
        {
          "output_type": "display_data",
          "data": {
            "text/plain": [
              "<Figure size 800x400 with 1 Axes>"
            ],
            "image/png": "[encoded data removed]"
          },
          "metadata": {}
        }
      ]
    },
    {
      "cell_type": "markdown",
      "source": [
        "##### 5. Calcule a média e a variância da renda da amostra. Depois faça a distribuição normal, inclua o gráfico.\n"
      ],
      "metadata": {
        "id": "6k3qyGGx1k7R"
      }
    },
    {
      "cell_type": "code",
      "source": [
        "# Calculando a média de renda\n",
        "renda_media = np.mean(df[\"renda\"])\n",
        "\n",
        "# Calculando a variancia\n",
        "variancia_renda = df[\"renda\"].var()\n",
        "\n",
        "# Limites da distribuição\n",
        "menor_renda = df[\"renda\"].min()\n",
        "maior_renda = df[\"renda\"].max()\n",
        "\n",
        "# Valores de renda para a distribuição\n",
        "x = np.linspace(menor_renda, maior_renda, 1000)\n",
        "\n",
        "# Calculando a função de densidade de probabilidade\n",
        "f_dens_prob = norm.pdf(x, renda_media, np.sqrt(variancia_renda))\n",
        "\n",
        "\n",
        "# Configurando o estilo do seaborn\n",
        "sns.set_theme()\n",
        "\n",
        "# Criando o histograma com Seaborn\n",
        "plt.figure(figsize=(10, 6))\n",
        "plt.plot(x, f_dens_prob, label='Distribuição Normal', color=\"#8b3f55\")\n",
        "sns.histplot(df[\"renda\"], bins=range(0, 6000, 100), color=\"#3b655c\", label=\"Histograma da Renda\", stat=\"density\")\n",
        "plt.title(\"Distribuição Normal de Renda\")\n",
        "plt.xlabel(\"Renda\")\n",
        "plt.ylabel(\"Densidade de Probabilidade\")\n",
        "plt.legend()\n",
        "plt.show()\n",
        "\n",
        "print(f\"\\nA renda média da população é {renda_media:.2f} e a variância é {variancia_renda:.2f}\")"
      ],
      "metadata": {
        "id": "BV1MlidL1pxo",
        "colab": {
          "base_uri": "https://localhost:8080/",
          "height": 608
        },
        "outputId": "f7e281b8-43c2-4384-c499-b615e398c607"
      },
      "execution_count": 31,
      "outputs": [
        {
          "output_type": "display_data",
          "data": {
            "text/plain": [
              "<Figure size 1000x600 with 1 Axes>"
            ],
            "image/png": "[encoded data removed]"
          },
          "metadata": {}
        },
        {
          "output_type": "stream",
          "name": "stdout",
          "text": [
            "\n",
            "A renda média da população é 3082.54 e a variância é 993156.23\n"
          ]
        }
      ]
    },
    {
      "cell_type": "markdown",
      "source": [
        "##### 6. Primeiro considere a probabilidade encontrada no nosso conjunto de pessoas com escolaridade de pós-graduação. Considerando a amostra de população brasileira com 1 milhão de habitantes, qual a probabilidade de encontrarmos 243 mil pessoas com pós-graduação?\n"
      ],
      "metadata": {
        "id": "WrbcsDGR1qFO"
      }
    },
    {
      "cell_type": "code",
      "source": [
        "# Filtro de pessoas com pós graduação\n",
        "pessoas_pos_graduacao = len(df.loc[df[\"escolaridade\"] == \"Pós-graduação\"])\n",
        "\n",
        "# Calculando a probabilidade de pessoas com pós-graduação na amostra\n",
        "prob_pessoas_pos_graduacao = pessoas_pos_graduacao / total_pessoas # Probabilidade de sucesso em uma única tentativa\n",
        "\n",
        "\n",
        "tentativas = 1000000 # número de tentativas\n",
        "sucessos = 243000 # número de sucessos desejados\n",
        "\n",
        "# Cálculo de probabilidade usando a distribuição binomial - Função Massa de Probabilidade\n",
        "probabilidade_1milhao = binom.pmf(sucessos, tentativas, prob_pessoas_pos_graduacao)\n",
        "\n",
        "print(f\"A probabilidade de encontrarmos {sucessos} pessoas com pós-graduação em uma amostra de {tentativas} habitantes é de aproximadamente {probabilidade_1milhao}\")"
      ],
      "metadata": {
        "id": "JS3iUpM71u4m",
        "colab": {
          "base_uri": "https://localhost:8080/"
        },
        "outputId": "b4c48200-e5cd-4318-de5a-91e1a10f038d"
      },
      "execution_count": 39,
      "outputs": [
        {
          "output_type": "stream",
          "name": "stdout",
          "text": [
            "A probabilidade de encontrarmos 243000 pessoas com pós-graduação em uma amostra de 1000000 habitantes é de aproximadamente 1.1104854289794913e-119\n"
          ]
        }
      ]
    },
    {
      "cell_type": "markdown",
      "source": [
        "##### 7. Somando as densidades nós temos a função de densidade acumulada. Considerando a coluna ‘Escolaridade’ faça a função de densidade acumulada discreta para cada nível de escolaridade."
      ],
      "metadata": {
        "id": "1Dz4kwk01vKY"
      }
    },
    {
      "cell_type": "code",
      "source": [
        "# Calculando a frequência de cada nível de escolaridade\n",
        "freq_escolaridade = df['escolaridade'].value_counts()\n",
        "\n",
        "# Calculando a proporção de cada nível de escolaridade em relação ao total da amostra\n",
        "prop_escolaridade = freq_escolaridade / len(df)\n",
        "\n",
        "# Calculando a densidade acumulada discreta para cada nível de escolaridade\n",
        "densidade_acumulada = prop_escolaridade.cumsum()\n",
        "\n",
        "# Exibindo as densidades acumuladas para cada nível de escolaridade\n",
        "print(\"Densidade acumulada para cada nível de escolaridade:\")\n",
        "print(densidade_acumulada)"
      ],
      "metadata": {
        "id": "7gAFOZNY10IJ",
        "colab": {
          "base_uri": "https://localhost:8080/"
        },
        "outputId": "8c4e715a-cfd1-4042-bdef-b51956ed17db"
      },
      "execution_count": 45,
      "outputs": [
        {
          "output_type": "stream",
          "name": "stdout",
          "text": [
            "Densidade acumulada para cada nível de escolaridade:\n",
            "Fundamental      0.266\n",
            "Pós-graduação    0.519\n",
            "Superior         0.762\n",
            "Médio            1.000\n",
            "Name: escolaridade, dtype: float64\n"
          ]
        }
      ]
    },
    {
      "cell_type": "markdown",
      "source": [
        "##### 8. Qual a margem de erro amostral da proporção populacional considerando a proporção de pessoas com nível de inglês intermediário?"
      ],
      "metadata": {
        "id": "oG-tdJiN10XF"
      }
    },
    {
      "cell_type": "code",
      "source": [
        "# Filtrando pessoas com inglês intermediário\n",
        "pessoas_ingles_intermediario = len(df.loc[df[\"nível de proficiência em inglês\"] == \"Intermediário\"])\n",
        "\n",
        "# Calculando a probabilidade de pessoas com inglês intermediário\n",
        "prob_pessoas_ingles_intermediario = pessoas_ingles_intermediario / total_pessoas\n",
        "\n",
        "# Calculando a probabilidade complementar\n",
        "comp_pessoas_ingles_intermediario = 1 - prob_pessoas_ingles_intermediario\n",
        "\n",
        "# Calculando a margem de erro considerando o nível de confiança de 95%\n",
        "margem_erro = 1.96 * np.sqrt((prob_pessoas_ingles_intermediario * comp_pessoas_ingles_intermediario)/total_pessoas) * 100\n",
        "\n",
        "print(f\"A margem de erro amostral considerando pessoas com proeficiência intermediária em inglês é de: {margem_erro:.2f}%\")"
      ],
      "metadata": {
        "id": "kyVTa2KW17O8",
        "colab": {
          "base_uri": "https://localhost:8080/"
        },
        "outputId": "6eae3e17-662d-488c-97f7-7134e317a0fb"
      },
      "execution_count": 14,
      "outputs": [
        {
          "output_type": "stream",
          "name": "stdout",
          "text": [
            "A margem de erro amostral considerando pessoas com proeficiência intermediária em inglês é de: 2.91%\n"
          ]
        }
      ]
    },
    {
      "cell_type": "markdown",
      "source": [
        "##### 9. Calcula a renda da população. Qual a probabilidade de encontrar 60 pessoas com uma renda mil reais superior à média?\n"
      ],
      "metadata": {
        "id": "kQfdw58o17ap"
      }
    },
    {
      "cell_type": "code",
      "source": [
        "# Calculando a probabilidade de 1 pessoa ter renda superior a média mais mil reais\n",
        "prob_individual_mil = len(df[df[\"renda\"] >= (renda_media + 1000)])\n",
        "\n",
        "amostra_renda = 60\n",
        "\n",
        "# Calcular a probabilidade de encontrar 60 pessoas com renda superior à média mais mil reais\n",
        "probabilidade_60_pessoas = (prob_individual_mil / total_pessoas) ** amostra_renda\n",
        "\n",
        "print(f\"A probabilidade de encontrar 60 pessoas com uma renda mil reais superior à média da população é de aproximadamente {probabilidade_60_pessoas}\")\n"
      ],
      "metadata": {
        "id": "VYzwtQBI1_hl",
        "colab": {
          "base_uri": "https://localhost:8080/"
        },
        "outputId": "868f1635-4f3c-496c-bff8-fa13d554a9e9"
      },
      "execution_count": 48,
      "outputs": [
        {
          "output_type": "stream",
          "name": "stdout",
          "text": [
            "A probabilidade de encontrar 60 pessoas com uma renda mil reais superior à média da população é de aproximadamente 2.5677489595221674e-48\n"
          ]
        }
      ]
    },
    {
      "cell_type": "markdown",
      "source": [
        "##### 10. Qual a probabilidade de escolhermos alguém do Sudeste que seja homem, com ensino fundamental e com renda maior que 2 mil reais por mês?"
      ],
      "metadata": {
        "id": "bmN7anRG1_2w"
      }
    },
    {
      "cell_type": "code",
      "source": [
        "# Filtrando os eventos: 1. Ser do Sudeste 2. Homem 3. Ter ensino Fundamental 4. Renda superior a 2000\n",
        "sudeste = len(df.loc[df[\"estado\"].isin([\"RJ\", \"SP\", \"MG\", \"ES\"])])/total_pessoas\n",
        "\n",
        "homens = len(df[\"sexo\"] == \"M\")/total_pessoas\n",
        "\n",
        "escolaridade = len(df[\"escolaridade\"] == \"Fundamental\")/total_pessoas\n",
        "\n",
        "renda = len(df[\"renda\"] >= 2000)/total_pessoas\n",
        "\n",
        "# Calculando a probabilidade\n",
        "prob_sud_homem_fund_doimil = (sudeste * homens * escolaridade * renda) * 100\n",
        "\n",
        "print(f\"A probabilidade de escolhermos alguém do Sudeste, que seja do sexo masculino, com ensino fundamental e renda igual ou superior a 2000 é de: {prob_sud_homem_fund_doimil}%\")"
      ],
      "metadata": {
        "id": "4JeqOwvI2Ewu",
        "colab": {
          "base_uri": "https://localhost:8080/"
        },
        "outputId": "e6d8014f-9edc-4b8c-c9f6-fe5737729e09"
      },
      "execution_count": 50,
      "outputs": [
        {
          "output_type": "stream",
          "name": "stdout",
          "text": [
            "A probabilidade de escolhermos alguém do Sudeste, que seja do sexo masculino, com ensino fundamental e renda igual ou superior a 2000 é de: 15.7%\n"
          ]
        }
      ]
    }
  ]
}