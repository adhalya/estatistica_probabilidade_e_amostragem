{
  "nbformat": 4,
  "nbformat_minor": 0,
  "metadata": {
    "colab": {
      "provenance": [],
      "authorship_tag": "ABX9TyPsnRJoF+RIRMOH9qkZUvil",
      "include_colab_link": true
    },
    "kernelspec": {
      "name": "python3",
      "display_name": "Python 3"
    },
    "language_info": {
      "name": "python"
    }
  },
  "cells": [
    {
      "cell_type": "markdown",
      "metadata": {
        "id": "view-in-github",
        "colab_type": "text"
      },
      "source": [
        "<a href=\"https://colab.research.google.com/github/adhalya/estatistica_probabilidade_e_amostragem/blob/main/DESAFIO_Probabilidade_e_Amostragem.ipynb\" target=\"_parent\"><img src=\"https://colab.research.google.com/assets/colab-badge.svg\" alt=\"Open In Colab\"/></a>"
      ]
    },
    {
      "cell_type": "code",
      "execution_count": 2,
      "metadata": {
        "id": "ou9dm3B_x2qF"
      },
      "outputs": [],
      "source": [
        "import pandas as pd"
      ]
    },
    {
      "cell_type": "code",
      "source": [
        "df = pd.read_csv(\"https://raw.githubusercontent.com/adhalya/estatistica_probabilidade_e_amostragem/main/populacao_brasileira.csv\")\n",
        "df.head()"
      ],
      "metadata": {
        "colab": {
          "base_uri": "https://localhost:8080/",
          "height": 206
        },
        "id": "IIxpEj93ypzP",
        "outputId": "8c93c9ed-6865-4fd4-f351-89025857dc11"
      },
      "execution_count": 3,
      "outputs": [
        {
          "output_type": "execute_result",
          "data": {
            "text/plain": [
              "   Unnamed: 0 estado  idade escolaridade nível de proficiência em inglês  \\\n",
              "0           0     MA     56  Fundamental                   Intermediário   \n",
              "1           1     BA     46     Superior                          Básico   \n",
              "2           2     AM     32  Fundamental                   Intermediário   \n",
              "3           3     CE     60     Superior                          Básico   \n",
              "4           4     SE     25  Fundamental                        Avançado   \n",
              "\n",
              "     renda sexo  \n",
              "0  4006.29    F  \n",
              "1  2423.11    M  \n",
              "2  3835.69    M  \n",
              "3  1870.29    M  \n",
              "4  3529.80    M  "
            ],
            "text/html": [
              "\n",
              "  <div id=\"df-b68511cb-f7be-4d7d-829a-83c94e42daf5\" class=\"colab-df-container\">\n",
              "    <div>\n",
              "<style scoped>\n",
              "    .dataframe tbody tr th:only-of-type {\n",
              "        vertical-align: middle;\n",
              "    }\n",
              "\n",
              "    .dataframe tbody tr th {\n",
              "        vertical-align: top;\n",
              "    }\n",
              "\n",
              "    .dataframe thead th {\n",
              "        text-align: right;\n",
              "    }\n",
              "</style>\n",
              "<table border=\"1\" class=\"dataframe\">\n",
              "  <thead>\n",
              "    <tr style=\"text-align: right;\">\n",
              "      <th></th>\n",
              "      <th>Unnamed: 0</th>\n",
              "      <th>estado</th>\n",
              "      <th>idade</th>\n",
              "      <th>escolaridade</th>\n",
              "      <th>nível de proficiência em inglês</th>\n",
              "      <th>renda</th>\n",
              "      <th>sexo</th>\n",
              "    </tr>\n",
              "  </thead>\n",
              "  <tbody>\n",
              "    <tr>\n",
              "      <th>0</th>\n",
              "      <td>0</td>\n",
              "      <td>MA</td>\n",
              "      <td>56</td>\n",
              "      <td>Fundamental</td>\n",
              "      <td>Intermediário</td>\n",
              "      <td>4006.29</td>\n",
              "      <td>F</td>\n",
              "    </tr>\n",
              "    <tr>\n",
              "      <th>1</th>\n",
              "      <td>1</td>\n",
              "      <td>BA</td>\n",
              "      <td>46</td>\n",
              "      <td>Superior</td>\n",
              "      <td>Básico</td>\n",
              "      <td>2423.11</td>\n",
              "      <td>M</td>\n",
              "    </tr>\n",
              "    <tr>\n",
              "      <th>2</th>\n",
              "      <td>2</td>\n",
              "      <td>AM</td>\n",
              "      <td>32</td>\n",
              "      <td>Fundamental</td>\n",
              "      <td>Intermediário</td>\n",
              "      <td>3835.69</td>\n",
              "      <td>M</td>\n",
              "    </tr>\n",
              "    <tr>\n",
              "      <th>3</th>\n",
              "      <td>3</td>\n",
              "      <td>CE</td>\n",
              "      <td>60</td>\n",
              "      <td>Superior</td>\n",
              "      <td>Básico</td>\n",
              "      <td>1870.29</td>\n",
              "      <td>M</td>\n",
              "    </tr>\n",
              "    <tr>\n",
              "      <th>4</th>\n",
              "      <td>4</td>\n",
              "      <td>SE</td>\n",
              "      <td>25</td>\n",
              "      <td>Fundamental</td>\n",
              "      <td>Avançado</td>\n",
              "      <td>3529.80</td>\n",
              "      <td>M</td>\n",
              "    </tr>\n",
              "  </tbody>\n",
              "</table>\n",
              "</div>\n",
              "    <div class=\"colab-df-buttons\">\n",
              "\n",
              "  <div class=\"colab-df-container\">\n",
              "    <button class=\"colab-df-convert\" onclick=\"convertToInteractive('df-b68511cb-f7be-4d7d-829a-83c94e42daf5')\"\n",
              "            title=\"Convert this dataframe to an interactive table.\"\n",
              "            style=\"display:none;\">\n",
              "\n",
              "  <svg xmlns=\"http://www.w3.org/2000/svg\" height=\"24px\" viewBox=\"0 -960 960 960\">\n",
              "    <path d=\"M120-120v-720h720v720H120Zm60-500h600v-160H180v160Zm220 220h160v-160H400v160Zm0 220h160v-160H400v160ZM180-400h160v-160H180v160Zm440 0h160v-160H620v160ZM180-180h160v-160H180v160Zm440 0h160v-160H620v160Z\"/>\n",
              "  </svg>\n",
              "    </button>\n",
              "\n",
              "  <style>\n",
              "    .colab-df-container {\n",
              "      display:flex;\n",
              "      gap: 12px;\n",
              "    }\n",
              "\n",
              "    .colab-df-convert {\n",
              "      background-color: #E8F0FE;\n",
              "      border: none;\n",
              "      border-radius: 50%;\n",
              "      cursor: pointer;\n",
              "      display: none;\n",
              "      fill: #1967D2;\n",
              "      height: 32px;\n",
              "      padding: 0 0 0 0;\n",
              "      width: 32px;\n",
              "    }\n",
              "\n",
              "    .colab-df-convert:hover {\n",
              "      background-color: #E2EBFA;\n",
              "      box-shadow: 0px 1px 2px rgba(60, 64, 67, 0.3), 0px 1px 3px 1px rgba(60, 64, 67, 0.15);\n",
              "      fill: #174EA6;\n",
              "    }\n",
              "\n",
              "    .colab-df-buttons div {\n",
              "      margin-bottom: 4px;\n",
              "    }\n",
              "\n",
              "    [theme=dark] .colab-df-convert {\n",
              "      background-color: #3B4455;\n",
              "      fill: #D2E3FC;\n",
              "    }\n",
              "\n",
              "    [theme=dark] .colab-df-convert:hover {\n",
              "      background-color: #434B5C;\n",
              "      box-shadow: 0px 1px 3px 1px rgba(0, 0, 0, 0.15);\n",
              "      filter: drop-shadow(0px 1px 2px rgba(0, 0, 0, 0.3));\n",
              "      fill: #FFFFFF;\n",
              "    }\n",
              "  </style>\n",
              "\n",
              "    <script>\n",
              "      const buttonEl =\n",
              "        document.querySelector('#df-b68511cb-f7be-4d7d-829a-83c94e42daf5 button.colab-df-convert');\n",
              "      buttonEl.style.display =\n",
              "        google.colab.kernel.accessAllowed ? 'block' : 'none';\n",
              "\n",
              "      async function convertToInteractive(key) {\n",
              "        const element = document.querySelector('#df-b68511cb-f7be-4d7d-829a-83c94e42daf5');\n",
              "        const dataTable =\n",
              "          await google.colab.kernel.invokeFunction('convertToInteractive',\n",
              "                                                    [key], {});\n",
              "        if (!dataTable) return;\n",
              "\n",
              "        const docLinkHtml = 'Like what you see? Visit the ' +\n",
              "          '<a target=\"_blank\" href=https://colab.research.google.com/notebooks/data_table.ipynb>data table notebook</a>'\n",
              "          + ' to learn more about interactive tables.';\n",
              "        element.innerHTML = '';\n",
              "        dataTable['output_type'] = 'display_data';\n",
              "        await google.colab.output.renderOutput(dataTable, element);\n",
              "        const docLink = document.createElement('div');\n",
              "        docLink.innerHTML = docLinkHtml;\n",
              "        element.appendChild(docLink);\n",
              "      }\n",
              "    </script>\n",
              "  </div>\n",
              "\n",
              "\n",
              "<div id=\"df-60c15b93-2aeb-4e5e-92ed-10536233f05b\">\n",
              "  <button class=\"colab-df-quickchart\" onclick=\"quickchart('df-60c15b93-2aeb-4e5e-92ed-10536233f05b')\"\n",
              "            title=\"Suggest charts\"\n",
              "            style=\"display:none;\">\n",
              "\n",
              "<svg xmlns=\"http://www.w3.org/2000/svg\" height=\"24px\"viewBox=\"0 0 24 24\"\n",
              "     width=\"24px\">\n",
              "    <g>\n",
              "        <path d=\"M19 3H5c-1.1 0-2 .9-2 2v14c0 1.1.9 2 2 2h14c1.1 0 2-.9 2-2V5c0-1.1-.9-2-2-2zM9 17H7v-7h2v7zm4 0h-2V7h2v10zm4 0h-2v-4h2v4z\"/>\n",
              "    </g>\n",
              "</svg>\n",
              "  </button>\n",
              "\n",
              "<style>\n",
              "  .colab-df-quickchart {\n",
              "      --bg-color: #E8F0FE;\n",
              "      --fill-color: #1967D2;\n",
              "      --hover-bg-color: #E2EBFA;\n",
              "      --hover-fill-color: #174EA6;\n",
              "      --disabled-fill-color: #AAA;\n",
              "      --disabled-bg-color: #DDD;\n",
              "  }\n",
              "\n",
              "  [theme=dark] .colab-df-quickchart {\n",
              "      --bg-color: #3B4455;\n",
              "      --fill-color: #D2E3FC;\n",
              "      --hover-bg-color: #434B5C;\n",
              "      --hover-fill-color: #FFFFFF;\n",
              "      --disabled-bg-color: #3B4455;\n",
              "      --disabled-fill-color: #666;\n",
              "  }\n",
              "\n",
              "  .colab-df-quickchart {\n",
              "    background-color: var(--bg-color);\n",
              "    border: none;\n",
              "    border-radius: 50%;\n",
              "    cursor: pointer;\n",
              "    display: none;\n",
              "    fill: var(--fill-color);\n",
              "    height: 32px;\n",
              "    padding: 0;\n",
              "    width: 32px;\n",
              "  }\n",
              "\n",
              "  .colab-df-quickchart:hover {\n",
              "    background-color: var(--hover-bg-color);\n",
              "    box-shadow: 0 1px 2px rgba(60, 64, 67, 0.3), 0 1px 3px 1px rgba(60, 64, 67, 0.15);\n",
              "    fill: var(--button-hover-fill-color);\n",
              "  }\n",
              "\n",
              "  .colab-df-quickchart-complete:disabled,\n",
              "  .colab-df-quickchart-complete:disabled:hover {\n",
              "    background-color: var(--disabled-bg-color);\n",
              "    fill: var(--disabled-fill-color);\n",
              "    box-shadow: none;\n",
              "  }\n",
              "\n",
              "  .colab-df-spinner {\n",
              "    border: 2px solid var(--fill-color);\n",
              "    border-color: transparent;\n",
              "    border-bottom-color: var(--fill-color);\n",
              "    animation:\n",
              "      spin 1s steps(1) infinite;\n",
              "  }\n",
              "\n",
              "  @keyframes spin {\n",
              "    0% {\n",
              "      border-color: transparent;\n",
              "      border-bottom-color: var(--fill-color);\n",
              "      border-left-color: var(--fill-color);\n",
              "    }\n",
              "    20% {\n",
              "      border-color: transparent;\n",
              "      border-left-color: var(--fill-color);\n",
              "      border-top-color: var(--fill-color);\n",
              "    }\n",
              "    30% {\n",
              "      border-color: transparent;\n",
              "      border-left-color: var(--fill-color);\n",
              "      border-top-color: var(--fill-color);\n",
              "      border-right-color: var(--fill-color);\n",
              "    }\n",
              "    40% {\n",
              "      border-color: transparent;\n",
              "      border-right-color: var(--fill-color);\n",
              "      border-top-color: var(--fill-color);\n",
              "    }\n",
              "    60% {\n",
              "      border-color: transparent;\n",
              "      border-right-color: var(--fill-color);\n",
              "    }\n",
              "    80% {\n",
              "      border-color: transparent;\n",
              "      border-right-color: var(--fill-color);\n",
              "      border-bottom-color: var(--fill-color);\n",
              "    }\n",
              "    90% {\n",
              "      border-color: transparent;\n",
              "      border-bottom-color: var(--fill-color);\n",
              "    }\n",
              "  }\n",
              "</style>\n",
              "\n",
              "  <script>\n",
              "    async function quickchart(key) {\n",
              "      const quickchartButtonEl =\n",
              "        document.querySelector('#' + key + ' button');\n",
              "      quickchartButtonEl.disabled = true;  // To prevent multiple clicks.\n",
              "      quickchartButtonEl.classList.add('colab-df-spinner');\n",
              "      try {\n",
              "        const charts = await google.colab.kernel.invokeFunction(\n",
              "            'suggestCharts', [key], {});\n",
              "      } catch (error) {\n",
              "        console.error('Error during call to suggestCharts:', error);\n",
              "      }\n",
              "      quickchartButtonEl.classList.remove('colab-df-spinner');\n",
              "      quickchartButtonEl.classList.add('colab-df-quickchart-complete');\n",
              "    }\n",
              "    (() => {\n",
              "      let quickchartButtonEl =\n",
              "        document.querySelector('#df-60c15b93-2aeb-4e5e-92ed-10536233f05b button');\n",
              "      quickchartButtonEl.style.display =\n",
              "        google.colab.kernel.accessAllowed ? 'block' : 'none';\n",
              "    })();\n",
              "  </script>\n",
              "</div>\n",
              "\n",
              "    </div>\n",
              "  </div>\n"
            ],
            "application/vnd.google.colaboratory.intrinsic+json": {
              "type": "dataframe",
              "variable_name": "df",
              "summary": "{\n  \"name\": \"df\",\n  \"rows\": 1000,\n  \"fields\": [\n    {\n      \"column\": \"Unnamed: 0\",\n      \"properties\": {\n        \"dtype\": \"number\",\n        \"std\": 288,\n        \"min\": 0,\n        \"max\": 999,\n        \"num_unique_values\": 1000,\n        \"samples\": [\n          521,\n          737,\n          740\n        ],\n        \"semantic_type\": \"\",\n        \"description\": \"\"\n      }\n    },\n    {\n      \"column\": \"estado\",\n      \"properties\": {\n        \"dtype\": \"category\",\n        \"num_unique_values\": 27,\n        \"samples\": [\n          \"AC\",\n          \"PA\",\n          \"SC\"\n        ],\n        \"semantic_type\": \"\",\n        \"description\": \"\"\n      }\n    },\n    {\n      \"column\": \"idade\",\n      \"properties\": {\n        \"dtype\": \"number\",\n        \"std\": 13,\n        \"min\": 18,\n        \"max\": 64,\n        \"num_unique_values\": 47,\n        \"samples\": [\n          24,\n          48,\n          54\n        ],\n        \"semantic_type\": \"\",\n        \"description\": \"\"\n      }\n    },\n    {\n      \"column\": \"escolaridade\",\n      \"properties\": {\n        \"dtype\": \"category\",\n        \"num_unique_values\": 4,\n        \"samples\": [\n          \"Superior\",\n          \"P\\u00f3s-gradua\\u00e7\\u00e3o\",\n          \"Fundamental\"\n        ],\n        \"semantic_type\": \"\",\n        \"description\": \"\"\n      }\n    },\n    {\n      \"column\": \"n\\u00edvel de profici\\u00eancia em ingl\\u00eas\",\n      \"properties\": {\n        \"dtype\": \"category\",\n        \"num_unique_values\": 3,\n        \"samples\": [\n          \"Intermedi\\u00e1rio\",\n          \"B\\u00e1sico\",\n          \"Avan\\u00e7ado\"\n        ],\n        \"semantic_type\": \"\",\n        \"description\": \"\"\n      }\n    },\n    {\n      \"column\": \"renda\",\n      \"properties\": {\n        \"dtype\": \"number\",\n        \"std\": 996.572239312141,\n        \"min\": 103.74,\n        \"max\": 5632.38,\n        \"num_unique_values\": 998,\n        \"samples\": [\n          2752.82,\n          4218.76,\n          2244.62\n        ],\n        \"semantic_type\": \"\",\n        \"description\": \"\"\n      }\n    },\n    {\n      \"column\": \"sexo\",\n      \"properties\": {\n        \"dtype\": \"category\",\n        \"num_unique_values\": 2,\n        \"samples\": [\n          \"M\",\n          \"F\"\n        ],\n        \"semantic_type\": \"\",\n        \"description\": \"\"\n      }\n    }\n  ]\n}"
            }
          },
          "metadata": {},
          "execution_count": 3
        }
      ]
    },
    {
      "cell_type": "code",
      "source": [
        "df.shape"
      ],
      "metadata": {
        "colab": {
          "base_uri": "https://localhost:8080/"
        },
        "id": "pwGEVFgA2gUV",
        "outputId": "74c7492c-c36f-43ce-e33b-36786cc945d7"
      },
      "execution_count": 4,
      "outputs": [
        {
          "output_type": "execute_result",
          "data": {
            "text/plain": [
              "(1000, 7)"
            ]
          },
          "metadata": {},
          "execution_count": 4
        }
      ]
    },
    {
      "cell_type": "code",
      "source": [
        "df.info()"
      ],
      "metadata": {
        "colab": {
          "base_uri": "https://localhost:8080/"
        },
        "id": "5uKzHLegzGkr",
        "outputId": "b013dc8a-66c7-4986-c2f3-eb9ad13051c3"
      },
      "execution_count": 5,
      "outputs": [
        {
          "output_type": "stream",
          "name": "stdout",
          "text": [
            "<class 'pandas.core.frame.DataFrame'>\n",
            "RangeIndex: 1000 entries, 0 to 999\n",
            "Data columns (total 7 columns):\n",
            " #   Column                           Non-Null Count  Dtype  \n",
            "---  ------                           --------------  -----  \n",
            " 0   Unnamed: 0                       1000 non-null   int64  \n",
            " 1   estado                           1000 non-null   object \n",
            " 2   idade                            1000 non-null   int64  \n",
            " 3   escolaridade                     1000 non-null   object \n",
            " 4   nível de proficiência em inglês  1000 non-null   object \n",
            " 5   renda                            1000 non-null   float64\n",
            " 6   sexo                             1000 non-null   object \n",
            "dtypes: float64(1), int64(2), object(4)\n",
            "memory usage: 54.8+ KB\n"
          ]
        }
      ]
    },
    {
      "cell_type": "code",
      "source": [
        "df.describe()"
      ],
      "metadata": {
        "colab": {
          "base_uri": "https://localhost:8080/",
          "height": 300
        },
        "id": "5Arm1zaYzBMk",
        "outputId": "be66f059-a8e1-479d-893e-14944191ac5e"
      },
      "execution_count": 6,
      "outputs": [
        {
          "output_type": "execute_result",
          "data": {
            "text/plain": [
              "        Unnamed: 0        idade        renda\n",
              "count  1000.000000  1000.000000  1000.000000\n",
              "mean    499.500000    40.986000  3082.537180\n",
              "std     288.819436    13.497852   996.572239\n",
              "min       0.000000    18.000000   103.740000\n",
              "25%     249.750000    29.000000  2425.815000\n",
              "50%     499.500000    42.000000  3076.415000\n",
              "75%     749.250000    52.000000  3714.487500\n",
              "max     999.000000    64.000000  5632.380000"
            ],
            "text/html": [
              "\n",
              "  <div id=\"df-0ca859f6-89e2-4bf9-92d2-af83d68837da\" class=\"colab-df-container\">\n",
              "    <div>\n",
              "<style scoped>\n",
              "    .dataframe tbody tr th:only-of-type {\n",
              "        vertical-align: middle;\n",
              "    }\n",
              "\n",
              "    .dataframe tbody tr th {\n",
              "        vertical-align: top;\n",
              "    }\n",
              "\n",
              "    .dataframe thead th {\n",
              "        text-align: right;\n",
              "    }\n",
              "</style>\n",
              "<table border=\"1\" class=\"dataframe\">\n",
              "  <thead>\n",
              "    <tr style=\"text-align: right;\">\n",
              "      <th></th>\n",
              "      <th>Unnamed: 0</th>\n",
              "      <th>idade</th>\n",
              "      <th>renda</th>\n",
              "    </tr>\n",
              "  </thead>\n",
              "  <tbody>\n",
              "    <tr>\n",
              "      <th>count</th>\n",
              "      <td>1000.000000</td>\n",
              "      <td>1000.000000</td>\n",
              "      <td>1000.000000</td>\n",
              "    </tr>\n",
              "    <tr>\n",
              "      <th>mean</th>\n",
              "      <td>499.500000</td>\n",
              "      <td>40.986000</td>\n",
              "      <td>3082.537180</td>\n",
              "    </tr>\n",
              "    <tr>\n",
              "      <th>std</th>\n",
              "      <td>288.819436</td>\n",
              "      <td>13.497852</td>\n",
              "      <td>996.572239</td>\n",
              "    </tr>\n",
              "    <tr>\n",
              "      <th>min</th>\n",
              "      <td>0.000000</td>\n",
              "      <td>18.000000</td>\n",
              "      <td>103.740000</td>\n",
              "    </tr>\n",
              "    <tr>\n",
              "      <th>25%</th>\n",
              "      <td>249.750000</td>\n",
              "      <td>29.000000</td>\n",
              "      <td>2425.815000</td>\n",
              "    </tr>\n",
              "    <tr>\n",
              "      <th>50%</th>\n",
              "      <td>499.500000</td>\n",
              "      <td>42.000000</td>\n",
              "      <td>3076.415000</td>\n",
              "    </tr>\n",
              "    <tr>\n",
              "      <th>75%</th>\n",
              "      <td>749.250000</td>\n",
              "      <td>52.000000</td>\n",
              "      <td>3714.487500</td>\n",
              "    </tr>\n",
              "    <tr>\n",
              "      <th>max</th>\n",
              "      <td>999.000000</td>\n",
              "      <td>64.000000</td>\n",
              "      <td>5632.380000</td>\n",
              "    </tr>\n",
              "  </tbody>\n",
              "</table>\n",
              "</div>\n",
              "    <div class=\"colab-df-buttons\">\n",
              "\n",
              "  <div class=\"colab-df-container\">\n",
              "    <button class=\"colab-df-convert\" onclick=\"convertToInteractive('df-0ca859f6-89e2-4bf9-92d2-af83d68837da')\"\n",
              "            title=\"Convert this dataframe to an interactive table.\"\n",
              "            style=\"display:none;\">\n",
              "\n",
              "  <svg xmlns=\"http://www.w3.org/2000/svg\" height=\"24px\" viewBox=\"0 -960 960 960\">\n",
              "    <path d=\"M120-120v-720h720v720H120Zm60-500h600v-160H180v160Zm220 220h160v-160H400v160Zm0 220h160v-160H400v160ZM180-400h160v-160H180v160Zm440 0h160v-160H620v160ZM180-180h160v-160H180v160Zm440 0h160v-160H620v160Z\"/>\n",
              "  </svg>\n",
              "    </button>\n",
              "\n",
              "  <style>\n",
              "    .colab-df-container {\n",
              "      display:flex;\n",
              "      gap: 12px;\n",
              "    }\n",
              "\n",
              "    .colab-df-convert {\n",
              "      background-color: #E8F0FE;\n",
              "      border: none;\n",
              "      border-radius: 50%;\n",
              "      cursor: pointer;\n",
              "      display: none;\n",
              "      fill: #1967D2;\n",
              "      height: 32px;\n",
              "      padding: 0 0 0 0;\n",
              "      width: 32px;\n",
              "    }\n",
              "\n",
              "    .colab-df-convert:hover {\n",
              "      background-color: #E2EBFA;\n",
              "      box-shadow: 0px 1px 2px rgba(60, 64, 67, 0.3), 0px 1px 3px 1px rgba(60, 64, 67, 0.15);\n",
              "      fill: #174EA6;\n",
              "    }\n",
              "\n",
              "    .colab-df-buttons div {\n",
              "      margin-bottom: 4px;\n",
              "    }\n",
              "\n",
              "    [theme=dark] .colab-df-convert {\n",
              "      background-color: #3B4455;\n",
              "      fill: #D2E3FC;\n",
              "    }\n",
              "\n",
              "    [theme=dark] .colab-df-convert:hover {\n",
              "      background-color: #434B5C;\n",
              "      box-shadow: 0px 1px 3px 1px rgba(0, 0, 0, 0.15);\n",
              "      filter: drop-shadow(0px 1px 2px rgba(0, 0, 0, 0.3));\n",
              "      fill: #FFFFFF;\n",
              "    }\n",
              "  </style>\n",
              "\n",
              "    <script>\n",
              "      const buttonEl =\n",
              "        document.querySelector('#df-0ca859f6-89e2-4bf9-92d2-af83d68837da button.colab-df-convert');\n",
              "      buttonEl.style.display =\n",
              "        google.colab.kernel.accessAllowed ? 'block' : 'none';\n",
              "\n",
              "      async function convertToInteractive(key) {\n",
              "        const element = document.querySelector('#df-0ca859f6-89e2-4bf9-92d2-af83d68837da');\n",
              "        const dataTable =\n",
              "          await google.colab.kernel.invokeFunction('convertToInteractive',\n",
              "                                                    [key], {});\n",
              "        if (!dataTable) return;\n",
              "\n",
              "        const docLinkHtml = 'Like what you see? Visit the ' +\n",
              "          '<a target=\"_blank\" href=https://colab.research.google.com/notebooks/data_table.ipynb>data table notebook</a>'\n",
              "          + ' to learn more about interactive tables.';\n",
              "        element.innerHTML = '';\n",
              "        dataTable['output_type'] = 'display_data';\n",
              "        await google.colab.output.renderOutput(dataTable, element);\n",
              "        const docLink = document.createElement('div');\n",
              "        docLink.innerHTML = docLinkHtml;\n",
              "        element.appendChild(docLink);\n",
              "      }\n",
              "    </script>\n",
              "  </div>\n",
              "\n",
              "\n",
              "<div id=\"df-f7352808-7849-4d09-ba41-29d56d218b03\">\n",
              "  <button class=\"colab-df-quickchart\" onclick=\"quickchart('df-f7352808-7849-4d09-ba41-29d56d218b03')\"\n",
              "            title=\"Suggest charts\"\n",
              "            style=\"display:none;\">\n",
              "\n",
              "<svg xmlns=\"http://www.w3.org/2000/svg\" height=\"24px\"viewBox=\"0 0 24 24\"\n",
              "     width=\"24px\">\n",
              "    <g>\n",
              "        <path d=\"M19 3H5c-1.1 0-2 .9-2 2v14c0 1.1.9 2 2 2h14c1.1 0 2-.9 2-2V5c0-1.1-.9-2-2-2zM9 17H7v-7h2v7zm4 0h-2V7h2v10zm4 0h-2v-4h2v4z\"/>\n",
              "    </g>\n",
              "</svg>\n",
              "  </button>\n",
              "\n",
              "<style>\n",
              "  .colab-df-quickchart {\n",
              "      --bg-color: #E8F0FE;\n",
              "      --fill-color: #1967D2;\n",
              "      --hover-bg-color: #E2EBFA;\n",
              "      --hover-fill-color: #174EA6;\n",
              "      --disabled-fill-color: #AAA;\n",
              "      --disabled-bg-color: #DDD;\n",
              "  }\n",
              "\n",
              "  [theme=dark] .colab-df-quickchart {\n",
              "      --bg-color: #3B4455;\n",
              "      --fill-color: #D2E3FC;\n",
              "      --hover-bg-color: #434B5C;\n",
              "      --hover-fill-color: #FFFFFF;\n",
              "      --disabled-bg-color: #3B4455;\n",
              "      --disabled-fill-color: #666;\n",
              "  }\n",
              "\n",
              "  .colab-df-quickchart {\n",
              "    background-color: var(--bg-color);\n",
              "    border: none;\n",
              "    border-radius: 50%;\n",
              "    cursor: pointer;\n",
              "    display: none;\n",
              "    fill: var(--fill-color);\n",
              "    height: 32px;\n",
              "    padding: 0;\n",
              "    width: 32px;\n",
              "  }\n",
              "\n",
              "  .colab-df-quickchart:hover {\n",
              "    background-color: var(--hover-bg-color);\n",
              "    box-shadow: 0 1px 2px rgba(60, 64, 67, 0.3), 0 1px 3px 1px rgba(60, 64, 67, 0.15);\n",
              "    fill: var(--button-hover-fill-color);\n",
              "  }\n",
              "\n",
              "  .colab-df-quickchart-complete:disabled,\n",
              "  .colab-df-quickchart-complete:disabled:hover {\n",
              "    background-color: var(--disabled-bg-color);\n",
              "    fill: var(--disabled-fill-color);\n",
              "    box-shadow: none;\n",
              "  }\n",
              "\n",
              "  .colab-df-spinner {\n",
              "    border: 2px solid var(--fill-color);\n",
              "    border-color: transparent;\n",
              "    border-bottom-color: var(--fill-color);\n",
              "    animation:\n",
              "      spin 1s steps(1) infinite;\n",
              "  }\n",
              "\n",
              "  @keyframes spin {\n",
              "    0% {\n",
              "      border-color: transparent;\n",
              "      border-bottom-color: var(--fill-color);\n",
              "      border-left-color: var(--fill-color);\n",
              "    }\n",
              "    20% {\n",
              "      border-color: transparent;\n",
              "      border-left-color: var(--fill-color);\n",
              "      border-top-color: var(--fill-color);\n",
              "    }\n",
              "    30% {\n",
              "      border-color: transparent;\n",
              "      border-left-color: var(--fill-color);\n",
              "      border-top-color: var(--fill-color);\n",
              "      border-right-color: var(--fill-color);\n",
              "    }\n",
              "    40% {\n",
              "      border-color: transparent;\n",
              "      border-right-color: var(--fill-color);\n",
              "      border-top-color: var(--fill-color);\n",
              "    }\n",
              "    60% {\n",
              "      border-color: transparent;\n",
              "      border-right-color: var(--fill-color);\n",
              "    }\n",
              "    80% {\n",
              "      border-color: transparent;\n",
              "      border-right-color: var(--fill-color);\n",
              "      border-bottom-color: var(--fill-color);\n",
              "    }\n",
              "    90% {\n",
              "      border-color: transparent;\n",
              "      border-bottom-color: var(--fill-color);\n",
              "    }\n",
              "  }\n",
              "</style>\n",
              "\n",
              "  <script>\n",
              "    async function quickchart(key) {\n",
              "      const quickchartButtonEl =\n",
              "        document.querySelector('#' + key + ' button');\n",
              "      quickchartButtonEl.disabled = true;  // To prevent multiple clicks.\n",
              "      quickchartButtonEl.classList.add('colab-df-spinner');\n",
              "      try {\n",
              "        const charts = await google.colab.kernel.invokeFunction(\n",
              "            'suggestCharts', [key], {});\n",
              "      } catch (error) {\n",
              "        console.error('Error during call to suggestCharts:', error);\n",
              "      }\n",
              "      quickchartButtonEl.classList.remove('colab-df-spinner');\n",
              "      quickchartButtonEl.classList.add('colab-df-quickchart-complete');\n",
              "    }\n",
              "    (() => {\n",
              "      let quickchartButtonEl =\n",
              "        document.querySelector('#df-f7352808-7849-4d09-ba41-29d56d218b03 button');\n",
              "      quickchartButtonEl.style.display =\n",
              "        google.colab.kernel.accessAllowed ? 'block' : 'none';\n",
              "    })();\n",
              "  </script>\n",
              "</div>\n",
              "\n",
              "    </div>\n",
              "  </div>\n"
            ],
            "application/vnd.google.colaboratory.intrinsic+json": {
              "type": "dataframe",
              "summary": "{\n  \"name\": \"df\",\n  \"rows\": 8,\n  \"fields\": [\n    {\n      \"column\": \"Unnamed: 0\",\n      \"properties\": {\n        \"dtype\": \"number\",\n        \"std\": 360.1860157939537,\n        \"min\": 0.0,\n        \"max\": 1000.0,\n        \"num_unique_values\": 7,\n        \"samples\": [\n          1000.0,\n          499.5,\n          749.25\n        ],\n        \"semantic_type\": \"\",\n        \"description\": \"\"\n      }\n    },\n    {\n      \"column\": \"idade\",\n      \"properties\": {\n        \"dtype\": \"number\",\n        \"std\": 340.86101014470347,\n        \"min\": 13.497851532595696,\n        \"max\": 1000.0,\n        \"num_unique_values\": 8,\n        \"samples\": [\n          40.986,\n          42.0,\n          1000.0\n        ],\n        \"semantic_type\": \"\",\n        \"description\": \"\"\n      }\n    },\n    {\n      \"column\": \"renda\",\n      \"properties\": {\n        \"dtype\": \"number\",\n        \"std\": 1781.4970040505991,\n        \"min\": 103.74,\n        \"max\": 5632.38,\n        \"num_unique_values\": 8,\n        \"samples\": [\n          3082.5371800000003,\n          3076.415,\n          1000.0\n        ],\n        \"semantic_type\": \"\",\n        \"description\": \"\"\n      }\n    }\n  ]\n}"
            }
          },
          "metadata": {},
          "execution_count": 6
        }
      ]
    },
    {
      "cell_type": "markdown",
      "source": [
        "Você é uma pesquisadora desenvolvendo uma análise sobre as\n",
        "características da força de trabalho nos estados brasileiros. Responda as\n",
        "perguntas abaixo:\n"
      ],
      "metadata": {
        "id": "Im7eN3-Jzmmf"
      }
    },
    {
      "cell_type": "markdown",
      "source": [
        "##### 1. Considere pessoas fluentes em inglês, qual a probabilidade complementar? Ou seja, qual a probabilidade de escolhermos uma pessoa aleatória e ela não ser fluente em inglês. Considere fluente quem tem o nível avançado.\n"
      ],
      "metadata": {
        "id": "YRJtwJqjzqBH"
      }
    },
    {
      "cell_type": "markdown",
      "source": [
        "- calcular a probabilidade de algo\n",
        "- quantas pessoas tem na nossa amostra? Resposta: TP\n",
        "- quantas pessoas falam inglês no nível avançado? Resposta: FE\n",
        "- probabilidade de ser fluente em inglês PFE = FE/TP\n",
        "- complementar: CO = 1 - PFE"
      ],
      "metadata": {
        "id": "vb1yjJ4tFPEE"
      }
    },
    {
      "cell_type": "code",
      "source": [
        "# Contando o número total de pessoas\n",
        "total_pessoas = len(df)\n",
        "# Contando quantas pessoas possuem nível avançado em inglês\n",
        "pessoas_fluentes_ingles = len(df.loc[df[\"nível de proficiência em inglês\"] == \"Avançado\"])\n",
        "\n",
        "probabilidade_fluencia_ingles = pessoas_fluentes_ingles / total_pessoas\n",
        "\n",
        "probabilidade_complementar = (1 - probabilidade_fluencia_ingles) * 100\n",
        "\n",
        "print(f\"A probabilidade de uma pessoa aleatória não ser fluente na língua inglesa é de {probabilidade_complementar:.1f}%\")\n",
        "\n"
      ],
      "metadata": {
        "colab": {
          "base_uri": "https://localhost:8080/"
        },
        "id": "sQL5I95O1Xq8",
        "outputId": "b6dd345e-948b-47b8-aafe-2b2e63659990"
      },
      "execution_count": 18,
      "outputs": [
        {
          "output_type": "stream",
          "name": "stdout",
          "text": [
            "A probabilidade de uma pessoa aleatória não ser fluente na língua inglesa é de 65.6%\n"
          ]
        }
      ]
    },
    {
      "cell_type": "markdown",
      "source": [
        "##### 2. Se uma pessoa escolhida aleatoriamente for de Alagoas ou do Pará, qual é a probabilidade de ela ter uma renda superior a 5 mil reais?"
      ],
      "metadata": {
        "id": "apk9G_z8zzgc"
      }
    },
    {
      "cell_type": "markdown",
      "source": [
        "- qual a amostra que analise: pessoas que moram nos estados do Para e de Alagoas\n",
        "- quantas pessoas tem na nossa amostra? Resposta: TP_Para_Alagoas\n",
        "- dentro da nossa amostra filtrar as pessoas que tem renda igual ou maior que cinco mil reais. Resposta: TP_Para_Alagoas_5_ou_mais_mil_reais_renda\n",
        "- probabilidade será PF = TP_Para_Alagoas_5_ou_mais_mil_reais_renda / TP_Para_Alagoas"
      ],
      "metadata": {
        "id": "9T5uWpuO5dz-"
      }
    },
    {
      "cell_type": "code",
      "source": [],
      "metadata": {
        "id": "hwdUWLMP1Wyc"
      },
      "execution_count": null,
      "outputs": []
    },
    {
      "cell_type": "markdown",
      "source": [
        "##### 3. Descubra a probabilidade de uma pessoa ter ensino superior completo no estado do Amazonas. Qual a probabilidade da quinta pessoa que você conversar, que é amazonense, ter ensino superior completo?\n"
      ],
      "metadata": {
        "id": "XaQ9acYH1YG9"
      }
    },
    {
      "cell_type": "markdown",
      "source": [
        "- Amostra em questão: restringindo a nossa analise para que estejam no estado do Amazonas. Resposta: P_Amazonas\n",
        "- preciso saber quantas pessoas com superior completo (no estado do Amazonas) possuem nível superior completo e pos graduacao. Resposta: P_Amazonas_Ensino_Superior_Completo_e_Pos_Graduacao\n",
        "- primeira probabilidade PEFETIVA = P_Amazonas_Ensino_Superior_Completo_e_Pos_Graduação / P_Amazonas\n",
        "\n",
        "- PCOMPLEMENTAR = 1 - P_Amazonas_Ensino_Superior_Completo_e_Pos_Graduação / P_Amazonas\n",
        "\n",
        "- P1, P2, P3, P4, P5* (A 5 TEM QUE SAIR SUPERIOR COMPLETO)\n",
        "\n",
        "PCOMPLEMENTAR * PCOMPLEMENTAR * PCOMPLEMENTAR * PCOMPLEMENTAR * PEFETIVA"
      ],
      "metadata": {
        "id": "5YjTaKRS6upn"
      }
    },
    {
      "cell_type": "code",
      "source": [],
      "metadata": {
        "id": "IXA6b2Cw1dTB"
      },
      "execution_count": null,
      "outputs": []
    },
    {
      "cell_type": "markdown",
      "source": [
        "##### 4. Considerando a renda das pessoas do nosso conjunto, podemos dizer que a renda de uma pessoa brasileira está na sua maioria em que faixa (faça faixa de 1.500 reais)? Qual é a sua função densidade de probabilidade?\n"
      ],
      "metadata": {
        "id": "mUka2tKA1dkq"
      }
    },
    {
      "cell_type": "markdown",
      "source": [
        "- bins = 1500\n",
        "- dividir as faixas salariais de 1500 e 1500\n",
        "\n",
        "- renda a: [0 - 1500]\n",
        "- renda b: ]1500 - 3000]\n",
        "- renda c: ]3000 - 4500]\n",
        "- renda d: ]4500 - 6000]\n",
        "- contar o número de pessoas em cada faixa"
      ],
      "metadata": {
        "id": "fjOjs4hrAeqe"
      }
    },
    {
      "cell_type": "code",
      "source": [],
      "metadata": {
        "id": "rtpt20QM1kTZ"
      },
      "execution_count": null,
      "outputs": []
    },
    {
      "cell_type": "markdown",
      "source": [
        "##### 5. Calcule a média e a variância da renda da amostra. Depois faça a distribuição normal, inclua o gráfico.\n"
      ],
      "metadata": {
        "id": "6k3qyGGx1k7R"
      }
    },
    {
      "cell_type": "markdown",
      "source": [
        "RENDA_MEDIA = SOMA(TODAS AS RENDAS)/NUMERO DE PESSOAS\n",
        "VARIANCIA = SOMA((RENDA INDIVIDUAL - RENDA_MEDIA)^2)\n",
        "\n",
        "HISTOGRAMA E SEABORN\n"
      ],
      "metadata": {
        "id": "ThuuIBGjCW2-"
      }
    },
    {
      "cell_type": "code",
      "source": [],
      "metadata": {
        "id": "BV1MlidL1pxo"
      },
      "execution_count": null,
      "outputs": []
    },
    {
      "cell_type": "markdown",
      "source": [
        "##### 6. Primeiro considere a probabilidade encontrada no nosso conjunto de pessoas com escolaridade de pós-graduação. Considerando a amostra de população brasileira com 1 milhão de habitantes, qual a probabilidade de encontrarmos 243 mil pessoas com pós-graduação?\n"
      ],
      "metadata": {
        "id": "WrbcsDGR1qFO"
      }
    },
    {
      "cell_type": "markdown",
      "source": [
        "ETAPA 1:\n",
        "- amostra sera o conjunto total da população, dentro do arquivo população_brasileira.csv PPT\n",
        "- filtrar por pessoas dentro da nossa amostra que tenham pos graduacao, PPT_POS-GRADUACAO\n",
        "-probabilidade de selecionar uma pessoa com pos graduação é: PROBABILIDADE_POS_GRAD = PPT_POS-GRADUACAO / PPT\n",
        "\n",
        "ETAPA 2:\n",
        "- novo tamanho da amostra (aumentando a mesma) = n = 1000000 (1 milhão)\n",
        "\n",
        "- sucesso = 243 mil pessoas com pós graduação\n",
        "\n",
        "- usando a probabilidade que foi calculada para a amostra na primeira etapa = PROBABILIDADE_POS_GRAD"
      ],
      "metadata": {
        "id": "z6YK9_haC4Gz"
      }
    },
    {
      "cell_type": "code",
      "source": [],
      "metadata": {
        "id": "JS3iUpM71u4m"
      },
      "execution_count": null,
      "outputs": []
    },
    {
      "cell_type": "markdown",
      "source": [
        "##### 7. Somando as densidades nós temos a função de densidade acumulada. Considerando a coluna ‘Escolaridade’ faça a função de densidade acumulada discreta para cada nível de escolaridade."
      ],
      "metadata": {
        "id": "1Dz4kwk01vKY"
      }
    },
    {
      "cell_type": "markdown",
      "source": [
        "valor = 0\n",
        "acumulada = valor + i\n",
        "\n",
        "a visualização vai ser algo crescente, menor >>>> maior\n",
        "\n",
        "- fundamental = d_fun\n",
        "- medio = d_medio + d_fun\n",
        "- superior = d_superior + d_medio + d_fun\n",
        "- pos_grad = d_pos_grad + d_superior + d_medio + d_fun\n",
        "\n",
        "valor final = 1 quanto se tem o valor acumulado\n"
      ],
      "metadata": {
        "id": "A8ZhOvpLHX7R"
      }
    },
    {
      "cell_type": "code",
      "source": [],
      "metadata": {
        "id": "7gAFOZNY10IJ"
      },
      "execution_count": null,
      "outputs": []
    },
    {
      "cell_type": "markdown",
      "source": [
        "##### 8. Qual a margem de erro amostral da proporção populacional considerando a proporção de pessoas com nível de inglês intermediário?"
      ],
      "metadata": {
        "id": "oG-tdJiN10XF"
      }
    },
    {
      "cell_type": "markdown",
      "source": [
        "- primeiro analisar quantas pessoas tem nível de inglês intermediário\n",
        "\n",
        "- p complementar(1 - prob pessoas com nível de inglês intermediário)\n",
        "\n",
        "- confiança:  0.95\n",
        "- calcular o nosso z dada a confiança definida\n",
        "- margem de erro = z * np.sqrt((p * (1 - p)) / n)"
      ],
      "metadata": {
        "id": "Ak9LLoNbIl1T"
      }
    },
    {
      "cell_type": "code",
      "source": [],
      "metadata": {
        "id": "kyVTa2KW17O8"
      },
      "execution_count": null,
      "outputs": []
    },
    {
      "cell_type": "markdown",
      "source": [
        "##### 9. Calcula a renda da população. Qual a probabilidade de encontrar 60 pessoas com uma renda mil reais superior à média?\n"
      ],
      "metadata": {
        "id": "kQfdw58o17ap"
      }
    },
    {
      "cell_type": "markdown",
      "source": [
        "- amostra = 60 pessoas\n",
        "- media da renda da população (populacao_brasileira.csv)\n",
        "- 1 pessoa: probabilidade de ter renda >= 100 da media (media + 1000)\n",
        "- 60 pessoas: probabilidade para 60 pessoas dentro do nosso total de pessoas da amostra(populaca_brasileira.csv) baseada na probabilidade que calculamos para 1 pessoa (calculo acima)"
      ],
      "metadata": {
        "id": "ogehstn3KdFt"
      }
    },
    {
      "cell_type": "code",
      "source": [],
      "metadata": {
        "id": "VYzwtQBI1_hl"
      },
      "execution_count": null,
      "outputs": []
    },
    {
      "cell_type": "markdown",
      "source": [
        "##### 10. Qual a probabilidade de escolhermos alguém do Sudeste que seja homem, com ensino fundamental e com renda maior que 2 mil reais por mês?"
      ],
      "metadata": {
        "id": "bmN7anRG1_2w"
      }
    },
    {
      "cell_type": "markdown",
      "source": [
        "FILTRAR:\n",
        "- ser do sudeste: RJ, SP, MG, ES >>> amostra populacao_brasileira.csv\n",
        "- sexo = masculino\n",
        "- escolaridade = ensino fundamental\n",
        "- renda > 2 mil reais\n",
        "\n",
        "P_FINAL = P_SUDESTE * P_SEXO * P_ESCOLARIDADE * P_RENDA\n",
        "\n",
        "Probabilidade final será a combinação das probabilidades individuais de cada ocorrência"
      ],
      "metadata": {
        "id": "lNzzbq8YLi0T"
      }
    },
    {
      "cell_type": "code",
      "source": [],
      "metadata": {
        "id": "4JeqOwvI2Ewu"
      },
      "execution_count": null,
      "outputs": []
    }
  ]
}